{
 "cells": [
  {
   "cell_type": "markdown",
   "metadata": {
    "toc": true
   },
   "source": [
    "<h1>Содержание<span class=\"tocSkip\"></span></h1>\n",
    "<div class=\"toc\"><ul class=\"toc-item\"><li><span><a href=\"#Загрузка-и-анализ-данных\" data-toc-modified-id=\"Загрузка-и-анализ-данных-1\"><span class=\"toc-item-num\">1&nbsp;&nbsp;</span>Загрузка и анализ данных</a></span></li><li><span><a href=\"#Предобработка-данных\" data-toc-modified-id=\"Предобработка-данных-2\"><span class=\"toc-item-num\">2&nbsp;&nbsp;</span>Предобработка данных</a></span><ul class=\"toc-item\"><li><span><a href=\"#Редактирование-таблиц-и-данных\" data-toc-modified-id=\"Редактирование-таблиц-и-данных-2.1\"><span class=\"toc-item-num\">2.1&nbsp;&nbsp;</span>Редактирование таблиц и данных</a></span></li><li><span><a href=\"#Подсчет-кол-ва-отправленных-сообщений,сделанных-звонков-и-использованного-интернет-траффика\" data-toc-modified-id=\"Подсчет-кол-ва-отправленных-сообщений,сделанных-звонков-и-использованного-интернет-траффика-2.2\"><span class=\"toc-item-num\">2.2&nbsp;&nbsp;</span>Подсчет кол-ва отправленных сообщений,сделанных звонков и использованного интернет траффика</a></span></li><li><span><a href=\"#Общая-статистика-по-пользователям\" data-toc-modified-id=\"Общая-статистика-по-пользователям-2.3\"><span class=\"toc-item-num\">2.3&nbsp;&nbsp;</span>Общая статистика по пользователям</a></span></li></ul></li><li><span><a href=\"#Анализ-и-описание-данных\" data-toc-modified-id=\"Анализ-и-описание-данных-3\"><span class=\"toc-item-num\">3&nbsp;&nbsp;</span>Анализ и описание данных</a></span></li><li><span><a href=\"#Формулирование-и-проверка-гипотез\" data-toc-modified-id=\"Формулирование-и-проверка-гипотез-4\"><span class=\"toc-item-num\">4&nbsp;&nbsp;</span>Формулирование и проверка гипотез</a></span></li><li><span><a href=\"#ВЫВОД\" data-toc-modified-id=\"ВЫВОД-5\"><span class=\"toc-item-num\">5&nbsp;&nbsp;</span>ВЫВОД</a></span></li><li><span><a href=\"#Чек-лист-готовности-проекта\" data-toc-modified-id=\"Чек-лист-готовности-проекта-6\"><span class=\"toc-item-num\">6&nbsp;&nbsp;</span>Чек-лист готовности проекта</a></span></li></ul></div>"
   ]
  },
  {
   "cell_type": "markdown",
   "metadata": {},
   "source": [
    "# Определение перспективного тарифа для телеком-компании\n",
    "Компания «Мегалайн» — федеральный оператор сотовой связи. Клиентам предлагают два тарифных плана: «Смарт» и «Ультра». Чтобы скорректировать рекламный бюджет, коммерческий департамент хочет понять, какой тариф приносит больше денег.\n",
    "Необходимо сделать предварительный анализ тарифов на небольшой выборке клиентов и выяснить, какой тариф лучше. "
   ]
  },
  {
   "cell_type": "markdown",
   "metadata": {},
   "source": [
    "## Загрузка и анализ данных"
   ]
  },
  {
   "cell_type": "code",
   "execution_count": 1,
   "metadata": {},
   "outputs": [
    {
     "name": "stdout",
     "output_type": "stream",
     "text": [
      "<class 'pandas.core.frame.DataFrame'>\n",
      "RangeIndex: 500 entries, 0 to 499\n",
      "Data columns (total 8 columns):\n",
      "user_id       500 non-null int64\n",
      "age           500 non-null int64\n",
      "churn_date    38 non-null object\n",
      "city          500 non-null object\n",
      "first_name    500 non-null object\n",
      "last_name     500 non-null object\n",
      "reg_date      500 non-null object\n",
      "tariff        500 non-null object\n",
      "dtypes: int64(2), object(6)\n",
      "memory usage: 31.4+ KB\n",
      "<class 'pandas.core.frame.DataFrame'>\n",
      "RangeIndex: 202607 entries, 0 to 202606\n",
      "Data columns (total 4 columns):\n",
      "id           202607 non-null object\n",
      "call_date    202607 non-null object\n",
      "duration     202607 non-null float64\n",
      "user_id      202607 non-null int64\n",
      "dtypes: float64(1), int64(1), object(2)\n",
      "memory usage: 6.2+ MB\n",
      "<class 'pandas.core.frame.DataFrame'>\n",
      "RangeIndex: 123036 entries, 0 to 123035\n",
      "Data columns (total 3 columns):\n",
      "id              123036 non-null object\n",
      "message_date    123036 non-null object\n",
      "user_id         123036 non-null int64\n",
      "dtypes: int64(1), object(2)\n",
      "memory usage: 2.8+ MB\n"
     ]
    },
    {
     "data": {
      "text/html": [
       "<div>\n",
       "<style scoped>\n",
       "    .dataframe tbody tr th:only-of-type {\n",
       "        vertical-align: middle;\n",
       "    }\n",
       "\n",
       "    .dataframe tbody tr th {\n",
       "        vertical-align: top;\n",
       "    }\n",
       "\n",
       "    .dataframe thead th {\n",
       "        text-align: right;\n",
       "    }\n",
       "</style>\n",
       "<table border=\"1\" class=\"dataframe\">\n",
       "  <thead>\n",
       "    <tr style=\"text-align: right;\">\n",
       "      <th></th>\n",
       "      <th>Unnamed: 0</th>\n",
       "      <th>id</th>\n",
       "      <th>mb_used</th>\n",
       "      <th>session_date</th>\n",
       "      <th>user_id</th>\n",
       "    </tr>\n",
       "  </thead>\n",
       "  <tbody>\n",
       "    <tr>\n",
       "      <td>149376</td>\n",
       "      <td>149376</td>\n",
       "      <td>1499_137</td>\n",
       "      <td>271.78</td>\n",
       "      <td>2018-10-22</td>\n",
       "      <td>1499</td>\n",
       "    </tr>\n",
       "    <tr>\n",
       "      <td>149377</td>\n",
       "      <td>149377</td>\n",
       "      <td>1499_138</td>\n",
       "      <td>585.26</td>\n",
       "      <td>2018-12-29</td>\n",
       "      <td>1499</td>\n",
       "    </tr>\n",
       "    <tr>\n",
       "      <td>149378</td>\n",
       "      <td>149378</td>\n",
       "      <td>1499_139</td>\n",
       "      <td>26.11</td>\n",
       "      <td>2018-12-10</td>\n",
       "      <td>1499</td>\n",
       "    </tr>\n",
       "    <tr>\n",
       "      <td>149379</td>\n",
       "      <td>149379</td>\n",
       "      <td>1499_140</td>\n",
       "      <td>234.09</td>\n",
       "      <td>2018-11-06</td>\n",
       "      <td>1499</td>\n",
       "    </tr>\n",
       "    <tr>\n",
       "      <td>149380</td>\n",
       "      <td>149380</td>\n",
       "      <td>1499_141</td>\n",
       "      <td>0.00</td>\n",
       "      <td>2018-12-11</td>\n",
       "      <td>1499</td>\n",
       "    </tr>\n",
       "    <tr>\n",
       "      <td>149381</td>\n",
       "      <td>149381</td>\n",
       "      <td>1499_142</td>\n",
       "      <td>0.00</td>\n",
       "      <td>2018-11-01</td>\n",
       "      <td>1499</td>\n",
       "    </tr>\n",
       "    <tr>\n",
       "      <td>149382</td>\n",
       "      <td>149382</td>\n",
       "      <td>1499_143</td>\n",
       "      <td>202.02</td>\n",
       "      <td>2018-10-11</td>\n",
       "      <td>1499</td>\n",
       "    </tr>\n",
       "    <tr>\n",
       "      <td>149383</td>\n",
       "      <td>149383</td>\n",
       "      <td>1499_144</td>\n",
       "      <td>0.00</td>\n",
       "      <td>2018-11-27</td>\n",
       "      <td>1499</td>\n",
       "    </tr>\n",
       "    <tr>\n",
       "      <td>149384</td>\n",
       "      <td>149384</td>\n",
       "      <td>1499_145</td>\n",
       "      <td>910.19</td>\n",
       "      <td>2018-12-04</td>\n",
       "      <td>1499</td>\n",
       "    </tr>\n",
       "    <tr>\n",
       "      <td>149385</td>\n",
       "      <td>149385</td>\n",
       "      <td>1499_146</td>\n",
       "      <td>23.72</td>\n",
       "      <td>2018-10-22</td>\n",
       "      <td>1499</td>\n",
       "    </tr>\n",
       "    <tr>\n",
       "      <td>149386</td>\n",
       "      <td>149386</td>\n",
       "      <td>1499_147</td>\n",
       "      <td>0.00</td>\n",
       "      <td>2018-10-21</td>\n",
       "      <td>1499</td>\n",
       "    </tr>\n",
       "    <tr>\n",
       "      <td>149387</td>\n",
       "      <td>149387</td>\n",
       "      <td>1499_148</td>\n",
       "      <td>268.19</td>\n",
       "      <td>2018-11-13</td>\n",
       "      <td>1499</td>\n",
       "    </tr>\n",
       "    <tr>\n",
       "      <td>149388</td>\n",
       "      <td>149388</td>\n",
       "      <td>1499_149</td>\n",
       "      <td>778.68</td>\n",
       "      <td>2018-11-24</td>\n",
       "      <td>1499</td>\n",
       "    </tr>\n",
       "    <tr>\n",
       "      <td>149389</td>\n",
       "      <td>149389</td>\n",
       "      <td>1499_150</td>\n",
       "      <td>273.98</td>\n",
       "      <td>2018-11-20</td>\n",
       "      <td>1499</td>\n",
       "    </tr>\n",
       "    <tr>\n",
       "      <td>149390</td>\n",
       "      <td>149390</td>\n",
       "      <td>1499_151</td>\n",
       "      <td>752.72</td>\n",
       "      <td>2018-10-11</td>\n",
       "      <td>1499</td>\n",
       "    </tr>\n",
       "    <tr>\n",
       "      <td>149391</td>\n",
       "      <td>149391</td>\n",
       "      <td>1499_152</td>\n",
       "      <td>318.90</td>\n",
       "      <td>2018-10-03</td>\n",
       "      <td>1499</td>\n",
       "    </tr>\n",
       "    <tr>\n",
       "      <td>149392</td>\n",
       "      <td>149392</td>\n",
       "      <td>1499_153</td>\n",
       "      <td>490.13</td>\n",
       "      <td>2018-12-14</td>\n",
       "      <td>1499</td>\n",
       "    </tr>\n",
       "    <tr>\n",
       "      <td>149393</td>\n",
       "      <td>149393</td>\n",
       "      <td>1499_154</td>\n",
       "      <td>0.00</td>\n",
       "      <td>2018-10-27</td>\n",
       "      <td>1499</td>\n",
       "    </tr>\n",
       "    <tr>\n",
       "      <td>149394</td>\n",
       "      <td>149394</td>\n",
       "      <td>1499_155</td>\n",
       "      <td>1246.32</td>\n",
       "      <td>2018-11-26</td>\n",
       "      <td>1499</td>\n",
       "    </tr>\n",
       "    <tr>\n",
       "      <td>149395</td>\n",
       "      <td>149395</td>\n",
       "      <td>1499_156</td>\n",
       "      <td>544.37</td>\n",
       "      <td>2018-10-26</td>\n",
       "      <td>1499</td>\n",
       "    </tr>\n",
       "  </tbody>\n",
       "</table>\n",
       "</div>"
      ],
      "text/plain": [
       "        Unnamed: 0        id  mb_used session_date  user_id\n",
       "149376      149376  1499_137   271.78   2018-10-22     1499\n",
       "149377      149377  1499_138   585.26   2018-12-29     1499\n",
       "149378      149378  1499_139    26.11   2018-12-10     1499\n",
       "149379      149379  1499_140   234.09   2018-11-06     1499\n",
       "149380      149380  1499_141     0.00   2018-12-11     1499\n",
       "149381      149381  1499_142     0.00   2018-11-01     1499\n",
       "149382      149382  1499_143   202.02   2018-10-11     1499\n",
       "149383      149383  1499_144     0.00   2018-11-27     1499\n",
       "149384      149384  1499_145   910.19   2018-12-04     1499\n",
       "149385      149385  1499_146    23.72   2018-10-22     1499\n",
       "149386      149386  1499_147     0.00   2018-10-21     1499\n",
       "149387      149387  1499_148   268.19   2018-11-13     1499\n",
       "149388      149388  1499_149   778.68   2018-11-24     1499\n",
       "149389      149389  1499_150   273.98   2018-11-20     1499\n",
       "149390      149390  1499_151   752.72   2018-10-11     1499\n",
       "149391      149391  1499_152   318.90   2018-10-03     1499\n",
       "149392      149392  1499_153   490.13   2018-12-14     1499\n",
       "149393      149393  1499_154     0.00   2018-10-27     1499\n",
       "149394      149394  1499_155  1246.32   2018-11-26     1499\n",
       "149395      149395  1499_156   544.37   2018-10-26     1499"
      ]
     },
     "metadata": {},
     "output_type": "display_data"
    },
    {
     "name": "stdout",
     "output_type": "stream",
     "text": [
      "<class 'pandas.core.frame.DataFrame'>\n",
      "RangeIndex: 149396 entries, 0 to 149395\n",
      "Data columns (total 5 columns):\n",
      "Unnamed: 0      149396 non-null int64\n",
      "id              149396 non-null object\n",
      "mb_used         149396 non-null float64\n",
      "session_date    149396 non-null object\n",
      "user_id         149396 non-null int64\n",
      "dtypes: float64(1), int64(2), object(2)\n",
      "memory usage: 5.7+ MB\n"
     ]
    },
    {
     "data": {
      "text/html": [
       "<div>\n",
       "<style scoped>\n",
       "    .dataframe tbody tr th:only-of-type {\n",
       "        vertical-align: middle;\n",
       "    }\n",
       "\n",
       "    .dataframe tbody tr th {\n",
       "        vertical-align: top;\n",
       "    }\n",
       "\n",
       "    .dataframe thead th {\n",
       "        text-align: right;\n",
       "    }\n",
       "</style>\n",
       "<table border=\"1\" class=\"dataframe\">\n",
       "  <thead>\n",
       "    <tr style=\"text-align: right;\">\n",
       "      <th></th>\n",
       "      <th>messages_included</th>\n",
       "      <th>mb_per_month_included</th>\n",
       "      <th>minutes_included</th>\n",
       "      <th>rub_monthly_fee</th>\n",
       "      <th>rub_per_gb</th>\n",
       "      <th>rub_per_message</th>\n",
       "      <th>rub_per_minute</th>\n",
       "      <th>tariff_name</th>\n",
       "    </tr>\n",
       "  </thead>\n",
       "  <tbody>\n",
       "    <tr>\n",
       "      <td>0</td>\n",
       "      <td>50</td>\n",
       "      <td>15360</td>\n",
       "      <td>500</td>\n",
       "      <td>550</td>\n",
       "      <td>200</td>\n",
       "      <td>3</td>\n",
       "      <td>3</td>\n",
       "      <td>smart</td>\n",
       "    </tr>\n",
       "    <tr>\n",
       "      <td>1</td>\n",
       "      <td>1000</td>\n",
       "      <td>30720</td>\n",
       "      <td>3000</td>\n",
       "      <td>1950</td>\n",
       "      <td>150</td>\n",
       "      <td>1</td>\n",
       "      <td>1</td>\n",
       "      <td>ultra</td>\n",
       "    </tr>\n",
       "  </tbody>\n",
       "</table>\n",
       "</div>"
      ],
      "text/plain": [
       "   messages_included  mb_per_month_included  minutes_included  \\\n",
       "0                 50                  15360               500   \n",
       "1               1000                  30720              3000   \n",
       "\n",
       "   rub_monthly_fee  rub_per_gb  rub_per_message  rub_per_minute tariff_name  \n",
       "0              550         200                3               3       smart  \n",
       "1             1950         150                1               1       ultra  "
      ]
     },
     "metadata": {},
     "output_type": "display_data"
    }
   ],
   "source": [
    "#Подключим необходимые библиотеки для работы с проектом\n",
    "import pandas as pd\n",
    "import numpy as np\n",
    "import matplotlib.pyplot as plt\n",
    "from scipy import stats as st\n",
    "#Сохраним наборы данных в разных переменных\n",
    "users = pd.read_csv('/datasets/users.csv')\n",
    "#display(users.head(20))\n",
    "users.info()\n",
    "calls = pd.read_csv('/datasets/calls.csv')\n",
    "#display(calls.tail(20))\n",
    "calls.info()\n",
    "messages = pd.read_csv('/datasets/messages.csv')\n",
    "#display(messages.head(20))\n",
    "messages.info()\n",
    "internet = pd.read_csv('/datasets/internet.csv')\n",
    "display(internet.tail(20))\n",
    "internet.info()\n",
    "tariffs = pd.read_csv('/datasets/tariffs.csv')\n",
    "display(tariffs.head(20))"
   ]
  },
  {
   "cell_type": "markdown",
   "metadata": {},
   "source": [
    "Выполнив работу на данном этапе было замечено, что пропусков как таковых в данных нет(есть только пропуски в таблице *users* и то это не ропуски, а просто человек не сменил тариф(пользуется прежним), колонки в таблицах называются корректно(есть правда одна колонка *Unnamed:0*  в таблице *internet* вообще странно, что это за колонка такая?)."
   ]
  },
  {
   "cell_type": "markdown",
   "metadata": {},
   "source": [
    "## Предобработка данных"
   ]
  },
  {
   "cell_type": "markdown",
   "metadata": {},
   "source": [
    "### Редактирование таблиц и данных"
   ]
  },
  {
   "cell_type": "code",
   "execution_count": 2,
   "metadata": {
    "scrolled": true
   },
   "outputs": [
    {
     "data": {
      "text/html": [
       "<div>\n",
       "<style scoped>\n",
       "    .dataframe tbody tr th:only-of-type {\n",
       "        vertical-align: middle;\n",
       "    }\n",
       "\n",
       "    .dataframe tbody tr th {\n",
       "        vertical-align: top;\n",
       "    }\n",
       "\n",
       "    .dataframe thead th {\n",
       "        text-align: right;\n",
       "    }\n",
       "</style>\n",
       "<table border=\"1\" class=\"dataframe\">\n",
       "  <thead>\n",
       "    <tr style=\"text-align: right;\">\n",
       "      <th></th>\n",
       "      <th>messages_included</th>\n",
       "      <th>mb_per_month_included</th>\n",
       "      <th>minutes_included</th>\n",
       "      <th>rub_monthly_fee</th>\n",
       "      <th>rub_per_gb</th>\n",
       "      <th>rub_per_message</th>\n",
       "      <th>rub_per_minute</th>\n",
       "      <th>tariff</th>\n",
       "    </tr>\n",
       "  </thead>\n",
       "  <tbody>\n",
       "    <tr>\n",
       "      <td>0</td>\n",
       "      <td>50</td>\n",
       "      <td>15360</td>\n",
       "      <td>500</td>\n",
       "      <td>550</td>\n",
       "      <td>200</td>\n",
       "      <td>3</td>\n",
       "      <td>3</td>\n",
       "      <td>smart</td>\n",
       "    </tr>\n",
       "    <tr>\n",
       "      <td>1</td>\n",
       "      <td>1000</td>\n",
       "      <td>30720</td>\n",
       "      <td>3000</td>\n",
       "      <td>1950</td>\n",
       "      <td>150</td>\n",
       "      <td>1</td>\n",
       "      <td>1</td>\n",
       "      <td>ultra</td>\n",
       "    </tr>\n",
       "  </tbody>\n",
       "</table>\n",
       "</div>"
      ],
      "text/plain": [
       "   messages_included  mb_per_month_included  minutes_included  \\\n",
       "0                 50                  15360               500   \n",
       "1               1000                  30720              3000   \n",
       "\n",
       "   rub_monthly_fee  rub_per_gb  rub_per_message  rub_per_minute tariff  \n",
       "0              550         200                3               3  smart  \n",
       "1             1950         150                1               1  ultra  "
      ]
     },
     "metadata": {},
     "output_type": "display_data"
    },
    {
     "data": {
      "text/html": [
       "<div>\n",
       "<style scoped>\n",
       "    .dataframe tbody tr th:only-of-type {\n",
       "        vertical-align: middle;\n",
       "    }\n",
       "\n",
       "    .dataframe tbody tr th {\n",
       "        vertical-align: top;\n",
       "    }\n",
       "\n",
       "    .dataframe thead th {\n",
       "        text-align: right;\n",
       "    }\n",
       "</style>\n",
       "<table border=\"1\" class=\"dataframe\">\n",
       "  <thead>\n",
       "    <tr style=\"text-align: right;\">\n",
       "      <th></th>\n",
       "      <th>id</th>\n",
       "      <th>mb_used</th>\n",
       "      <th>session_date</th>\n",
       "      <th>user_id</th>\n",
       "    </tr>\n",
       "  </thead>\n",
       "  <tbody>\n",
       "    <tr>\n",
       "      <td>0</td>\n",
       "      <td>1000_0</td>\n",
       "      <td>113</td>\n",
       "      <td>2018-11-25</td>\n",
       "      <td>1000</td>\n",
       "    </tr>\n",
       "    <tr>\n",
       "      <td>1</td>\n",
       "      <td>1000_1</td>\n",
       "      <td>1053</td>\n",
       "      <td>2018-09-07</td>\n",
       "      <td>1000</td>\n",
       "    </tr>\n",
       "    <tr>\n",
       "      <td>2</td>\n",
       "      <td>1000_2</td>\n",
       "      <td>1198</td>\n",
       "      <td>2018-06-25</td>\n",
       "      <td>1000</td>\n",
       "    </tr>\n",
       "    <tr>\n",
       "      <td>3</td>\n",
       "      <td>1000_3</td>\n",
       "      <td>551</td>\n",
       "      <td>2018-08-22</td>\n",
       "      <td>1000</td>\n",
       "    </tr>\n",
       "    <tr>\n",
       "      <td>4</td>\n",
       "      <td>1000_4</td>\n",
       "      <td>303</td>\n",
       "      <td>2018-09-24</td>\n",
       "      <td>1000</td>\n",
       "    </tr>\n",
       "    <tr>\n",
       "      <td>5</td>\n",
       "      <td>1000_5</td>\n",
       "      <td>400</td>\n",
       "      <td>2018-10-02</td>\n",
       "      <td>1000</td>\n",
       "    </tr>\n",
       "    <tr>\n",
       "      <td>6</td>\n",
       "      <td>1000_6</td>\n",
       "      <td>541</td>\n",
       "      <td>2018-09-07</td>\n",
       "      <td>1000</td>\n",
       "    </tr>\n",
       "    <tr>\n",
       "      <td>7</td>\n",
       "      <td>1000_7</td>\n",
       "      <td>416</td>\n",
       "      <td>2018-07-11</td>\n",
       "      <td>1000</td>\n",
       "    </tr>\n",
       "    <tr>\n",
       "      <td>8</td>\n",
       "      <td>1000_8</td>\n",
       "      <td>506</td>\n",
       "      <td>2018-10-08</td>\n",
       "      <td>1000</td>\n",
       "    </tr>\n",
       "    <tr>\n",
       "      <td>9</td>\n",
       "      <td>1000_9</td>\n",
       "      <td>346</td>\n",
       "      <td>2018-09-03</td>\n",
       "      <td>1000</td>\n",
       "    </tr>\n",
       "    <tr>\n",
       "      <td>10</td>\n",
       "      <td>1000_10</td>\n",
       "      <td>386</td>\n",
       "      <td>2018-09-27</td>\n",
       "      <td>1000</td>\n",
       "    </tr>\n",
       "    <tr>\n",
       "      <td>11</td>\n",
       "      <td>1000_11</td>\n",
       "      <td>0</td>\n",
       "      <td>2018-08-28</td>\n",
       "      <td>1000</td>\n",
       "    </tr>\n",
       "    <tr>\n",
       "      <td>12</td>\n",
       "      <td>1000_12</td>\n",
       "      <td>376</td>\n",
       "      <td>2018-06-20</td>\n",
       "      <td>1000</td>\n",
       "    </tr>\n",
       "    <tr>\n",
       "      <td>13</td>\n",
       "      <td>1000_13</td>\n",
       "      <td>394</td>\n",
       "      <td>2018-08-09</td>\n",
       "      <td>1000</td>\n",
       "    </tr>\n",
       "    <tr>\n",
       "      <td>14</td>\n",
       "      <td>1000_14</td>\n",
       "      <td>181</td>\n",
       "      <td>2018-08-11</td>\n",
       "      <td>1000</td>\n",
       "    </tr>\n",
       "    <tr>\n",
       "      <td>15</td>\n",
       "      <td>1000_15</td>\n",
       "      <td>338</td>\n",
       "      <td>2018-07-21</td>\n",
       "      <td>1000</td>\n",
       "    </tr>\n",
       "    <tr>\n",
       "      <td>16</td>\n",
       "      <td>1000_16</td>\n",
       "      <td>460</td>\n",
       "      <td>2018-06-09</td>\n",
       "      <td>1000</td>\n",
       "    </tr>\n",
       "    <tr>\n",
       "      <td>17</td>\n",
       "      <td>1000_17</td>\n",
       "      <td>205</td>\n",
       "      <td>2018-06-03</td>\n",
       "      <td>1000</td>\n",
       "    </tr>\n",
       "    <tr>\n",
       "      <td>18</td>\n",
       "      <td>1000_18</td>\n",
       "      <td>659</td>\n",
       "      <td>2018-11-01</td>\n",
       "      <td>1000</td>\n",
       "    </tr>\n",
       "    <tr>\n",
       "      <td>19</td>\n",
       "      <td>1000_19</td>\n",
       "      <td>453</td>\n",
       "      <td>2018-11-28</td>\n",
       "      <td>1000</td>\n",
       "    </tr>\n",
       "    <tr>\n",
       "      <td>20</td>\n",
       "      <td>1000_20</td>\n",
       "      <td>337</td>\n",
       "      <td>2018-08-20</td>\n",
       "      <td>1000</td>\n",
       "    </tr>\n",
       "    <tr>\n",
       "      <td>21</td>\n",
       "      <td>1000_21</td>\n",
       "      <td>565</td>\n",
       "      <td>2018-12-06</td>\n",
       "      <td>1000</td>\n",
       "    </tr>\n",
       "    <tr>\n",
       "      <td>22</td>\n",
       "      <td>1000_22</td>\n",
       "      <td>724</td>\n",
       "      <td>2018-07-02</td>\n",
       "      <td>1000</td>\n",
       "    </tr>\n",
       "    <tr>\n",
       "      <td>23</td>\n",
       "      <td>1000_23</td>\n",
       "      <td>604</td>\n",
       "      <td>2018-10-19</td>\n",
       "      <td>1000</td>\n",
       "    </tr>\n",
       "    <tr>\n",
       "      <td>24</td>\n",
       "      <td>1000_24</td>\n",
       "      <td>54</td>\n",
       "      <td>2018-10-30</td>\n",
       "      <td>1000</td>\n",
       "    </tr>\n",
       "  </tbody>\n",
       "</table>\n",
       "</div>"
      ],
      "text/plain": [
       "         id  mb_used session_date  user_id\n",
       "0    1000_0      113   2018-11-25     1000\n",
       "1    1000_1     1053   2018-09-07     1000\n",
       "2    1000_2     1198   2018-06-25     1000\n",
       "3    1000_3      551   2018-08-22     1000\n",
       "4    1000_4      303   2018-09-24     1000\n",
       "5    1000_5      400   2018-10-02     1000\n",
       "6    1000_6      541   2018-09-07     1000\n",
       "7    1000_7      416   2018-07-11     1000\n",
       "8    1000_8      506   2018-10-08     1000\n",
       "9    1000_9      346   2018-09-03     1000\n",
       "10  1000_10      386   2018-09-27     1000\n",
       "11  1000_11        0   2018-08-28     1000\n",
       "12  1000_12      376   2018-06-20     1000\n",
       "13  1000_13      394   2018-08-09     1000\n",
       "14  1000_14      181   2018-08-11     1000\n",
       "15  1000_15      338   2018-07-21     1000\n",
       "16  1000_16      460   2018-06-09     1000\n",
       "17  1000_17      205   2018-06-03     1000\n",
       "18  1000_18      659   2018-11-01     1000\n",
       "19  1000_19      453   2018-11-28     1000\n",
       "20  1000_20      337   2018-08-20     1000\n",
       "21  1000_21      565   2018-12-06     1000\n",
       "22  1000_22      724   2018-07-02     1000\n",
       "23  1000_23      604   2018-10-19     1000\n",
       "24  1000_24       54   2018-10-30     1000"
      ]
     },
     "metadata": {},
     "output_type": "display_data"
    },
    {
     "data": {
      "text/html": [
       "<div>\n",
       "<style scoped>\n",
       "    .dataframe tbody tr th:only-of-type {\n",
       "        vertical-align: middle;\n",
       "    }\n",
       "\n",
       "    .dataframe tbody tr th {\n",
       "        vertical-align: top;\n",
       "    }\n",
       "\n",
       "    .dataframe thead th {\n",
       "        text-align: right;\n",
       "    }\n",
       "</style>\n",
       "<table border=\"1\" class=\"dataframe\">\n",
       "  <thead>\n",
       "    <tr style=\"text-align: right;\">\n",
       "      <th></th>\n",
       "      <th>id</th>\n",
       "      <th>call_date</th>\n",
       "      <th>duration</th>\n",
       "      <th>user_id</th>\n",
       "    </tr>\n",
       "  </thead>\n",
       "  <tbody>\n",
       "    <tr>\n",
       "      <td>0</td>\n",
       "      <td>1000_0</td>\n",
       "      <td>2018-07-25</td>\n",
       "      <td>0.0</td>\n",
       "      <td>1000</td>\n",
       "    </tr>\n",
       "    <tr>\n",
       "      <td>1</td>\n",
       "      <td>1000_1</td>\n",
       "      <td>2018-08-17</td>\n",
       "      <td>0.0</td>\n",
       "      <td>1000</td>\n",
       "    </tr>\n",
       "    <tr>\n",
       "      <td>2</td>\n",
       "      <td>1000_2</td>\n",
       "      <td>2018-06-11</td>\n",
       "      <td>3.0</td>\n",
       "      <td>1000</td>\n",
       "    </tr>\n",
       "    <tr>\n",
       "      <td>3</td>\n",
       "      <td>1000_3</td>\n",
       "      <td>2018-09-21</td>\n",
       "      <td>14.0</td>\n",
       "      <td>1000</td>\n",
       "    </tr>\n",
       "    <tr>\n",
       "      <td>4</td>\n",
       "      <td>1000_4</td>\n",
       "      <td>2018-12-15</td>\n",
       "      <td>6.0</td>\n",
       "      <td>1000</td>\n",
       "    </tr>\n",
       "  </tbody>\n",
       "</table>\n",
       "</div>"
      ],
      "text/plain": [
       "       id   call_date  duration  user_id\n",
       "0  1000_0  2018-07-25       0.0     1000\n",
       "1  1000_1  2018-08-17       0.0     1000\n",
       "2  1000_2  2018-06-11       3.0     1000\n",
       "3  1000_3  2018-09-21      14.0     1000\n",
       "4  1000_4  2018-12-15       6.0     1000"
      ]
     },
     "metadata": {},
     "output_type": "display_data"
    }
   ],
   "source": [
    "#На предыдущем этапе, в таблице internet , был замечен дублирующий столбец , удалим его\n",
    "internet.drop(columns='Unnamed: 0',inplace=True,axis=1)\n",
    "#переименуем столбец в таблице tariffs, для дальнейшей работы с ним\n",
    "tariffs.columns = ['messages_included','mb_per_month_included','minutes_included','rub_monthly_fee','rub_per_gb','rub_per_message','rub_per_minute','tariff']\n",
    "display(tariffs)\n",
    "#Поскольку интернет траффик считается в ГБ (в тарифе), приведем в соответствующий тип\n",
    "internet['mb_used'] = internet['mb_used'].apply(np.ceil).astype(int)\n",
    "display(internet.head(25))\n",
    "#Поскольку длительность звонков считается в минутакх, приведем в соответствующий тип\n",
    "calls['duration'] = calls['duration'].apply(np.ceil)\n",
    "display(calls.head())"
   ]
  },
  {
   "cell_type": "markdown",
   "metadata": {},
   "source": [
    "### Подсчет кол-ва отправленных сообщений,сделанных звонков и использованного интернет траффика"
   ]
  },
  {
   "cell_type": "code",
   "execution_count": 3,
   "metadata": {
    "scrolled": true
   },
   "outputs": [
    {
     "data": {
      "text/html": [
       "<div>\n",
       "<style scoped>\n",
       "    .dataframe tbody tr th:only-of-type {\n",
       "        vertical-align: middle;\n",
       "    }\n",
       "\n",
       "    .dataframe tbody tr th {\n",
       "        vertical-align: top;\n",
       "    }\n",
       "\n",
       "    .dataframe thead th {\n",
       "        text-align: right;\n",
       "    }\n",
       "</style>\n",
       "<table border=\"1\" class=\"dataframe\">\n",
       "  <thead>\n",
       "    <tr style=\"text-align: right;\">\n",
       "      <th></th>\n",
       "      <th>user_id</th>\n",
       "      <th>month</th>\n",
       "      <th>messages_count</th>\n",
       "    </tr>\n",
       "  </thead>\n",
       "  <tbody>\n",
       "    <tr>\n",
       "      <td>0</td>\n",
       "      <td>1000</td>\n",
       "      <td>August</td>\n",
       "      <td>81</td>\n",
       "    </tr>\n",
       "    <tr>\n",
       "      <td>1</td>\n",
       "      <td>1000</td>\n",
       "      <td>December</td>\n",
       "      <td>70</td>\n",
       "    </tr>\n",
       "    <tr>\n",
       "      <td>2</td>\n",
       "      <td>1000</td>\n",
       "      <td>July</td>\n",
       "      <td>75</td>\n",
       "    </tr>\n",
       "    <tr>\n",
       "      <td>3</td>\n",
       "      <td>1000</td>\n",
       "      <td>June</td>\n",
       "      <td>60</td>\n",
       "    </tr>\n",
       "    <tr>\n",
       "      <td>4</td>\n",
       "      <td>1000</td>\n",
       "      <td>May</td>\n",
       "      <td>22</td>\n",
       "    </tr>\n",
       "    <tr>\n",
       "      <td>5</td>\n",
       "      <td>1000</td>\n",
       "      <td>November</td>\n",
       "      <td>58</td>\n",
       "    </tr>\n",
       "    <tr>\n",
       "      <td>6</td>\n",
       "      <td>1000</td>\n",
       "      <td>October</td>\n",
       "      <td>73</td>\n",
       "    </tr>\n",
       "    <tr>\n",
       "      <td>7</td>\n",
       "      <td>1000</td>\n",
       "      <td>September</td>\n",
       "      <td>57</td>\n",
       "    </tr>\n",
       "    <tr>\n",
       "      <td>8</td>\n",
       "      <td>1002</td>\n",
       "      <td>August</td>\n",
       "      <td>13</td>\n",
       "    </tr>\n",
       "    <tr>\n",
       "      <td>9</td>\n",
       "      <td>1002</td>\n",
       "      <td>December</td>\n",
       "      <td>12</td>\n",
       "    </tr>\n",
       "  </tbody>\n",
       "</table>\n",
       "</div>"
      ],
      "text/plain": [
       "   user_id      month  messages_count\n",
       "0     1000     August              81\n",
       "1     1000   December              70\n",
       "2     1000       July              75\n",
       "3     1000       June              60\n",
       "4     1000        May              22\n",
       "5     1000   November              58\n",
       "6     1000    October              73\n",
       "7     1000  September              57\n",
       "8     1002     August              13\n",
       "9     1002   December              12"
      ]
     },
     "metadata": {},
     "output_type": "display_data"
    },
    {
     "data": {
      "text/html": [
       "<div>\n",
       "<style scoped>\n",
       "    .dataframe tbody tr th:only-of-type {\n",
       "        vertical-align: middle;\n",
       "    }\n",
       "\n",
       "    .dataframe tbody tr th {\n",
       "        vertical-align: top;\n",
       "    }\n",
       "\n",
       "    .dataframe thead th {\n",
       "        text-align: right;\n",
       "    }\n",
       "</style>\n",
       "<table border=\"1\" class=\"dataframe\">\n",
       "  <thead>\n",
       "    <tr style=\"text-align: right;\">\n",
       "      <th></th>\n",
       "      <th>user_id</th>\n",
       "      <th>month</th>\n",
       "      <th>call_count</th>\n",
       "      <th>total_duration</th>\n",
       "    </tr>\n",
       "  </thead>\n",
       "  <tbody>\n",
       "    <tr>\n",
       "      <td>0</td>\n",
       "      <td>1000</td>\n",
       "      <td>August</td>\n",
       "      <td>52</td>\n",
       "      <td>408.0</td>\n",
       "    </tr>\n",
       "    <tr>\n",
       "      <td>1</td>\n",
       "      <td>1000</td>\n",
       "      <td>December</td>\n",
       "      <td>46</td>\n",
       "      <td>333.0</td>\n",
       "    </tr>\n",
       "    <tr>\n",
       "      <td>2</td>\n",
       "      <td>1000</td>\n",
       "      <td>July</td>\n",
       "      <td>47</td>\n",
       "      <td>340.0</td>\n",
       "    </tr>\n",
       "    <tr>\n",
       "      <td>3</td>\n",
       "      <td>1000</td>\n",
       "      <td>June</td>\n",
       "      <td>43</td>\n",
       "      <td>172.0</td>\n",
       "    </tr>\n",
       "    <tr>\n",
       "      <td>4</td>\n",
       "      <td>1000</td>\n",
       "      <td>May</td>\n",
       "      <td>22</td>\n",
       "      <td>159.0</td>\n",
       "    </tr>\n",
       "    <tr>\n",
       "      <td>5</td>\n",
       "      <td>1000</td>\n",
       "      <td>November</td>\n",
       "      <td>43</td>\n",
       "      <td>338.0</td>\n",
       "    </tr>\n",
       "    <tr>\n",
       "      <td>6</td>\n",
       "      <td>1000</td>\n",
       "      <td>October</td>\n",
       "      <td>57</td>\n",
       "      <td>350.0</td>\n",
       "    </tr>\n",
       "    <tr>\n",
       "      <td>7</td>\n",
       "      <td>1000</td>\n",
       "      <td>September</td>\n",
       "      <td>58</td>\n",
       "      <td>466.0</td>\n",
       "    </tr>\n",
       "    <tr>\n",
       "      <td>8</td>\n",
       "      <td>1001</td>\n",
       "      <td>December</td>\n",
       "      <td>63</td>\n",
       "      <td>414.0</td>\n",
       "    </tr>\n",
       "    <tr>\n",
       "      <td>9</td>\n",
       "      <td>1001</td>\n",
       "      <td>November</td>\n",
       "      <td>59</td>\n",
       "      <td>430.0</td>\n",
       "    </tr>\n",
       "    <tr>\n",
       "      <td>10</td>\n",
       "      <td>1002</td>\n",
       "      <td>August</td>\n",
       "      <td>42</td>\n",
       "      <td>289.0</td>\n",
       "    </tr>\n",
       "    <tr>\n",
       "      <td>11</td>\n",
       "      <td>1002</td>\n",
       "      <td>December</td>\n",
       "      <td>33</td>\n",
       "      <td>236.0</td>\n",
       "    </tr>\n",
       "    <tr>\n",
       "      <td>12</td>\n",
       "      <td>1002</td>\n",
       "      <td>July</td>\n",
       "      <td>26</td>\n",
       "      <td>214.0</td>\n",
       "    </tr>\n",
       "    <tr>\n",
       "      <td>13</td>\n",
       "      <td>1002</td>\n",
       "      <td>June</td>\n",
       "      <td>15</td>\n",
       "      <td>117.0</td>\n",
       "    </tr>\n",
       "    <tr>\n",
       "      <td>14</td>\n",
       "      <td>1002</td>\n",
       "      <td>November</td>\n",
       "      <td>32</td>\n",
       "      <td>243.0</td>\n",
       "    </tr>\n",
       "    <tr>\n",
       "      <td>15</td>\n",
       "      <td>1002</td>\n",
       "      <td>October</td>\n",
       "      <td>33</td>\n",
       "      <td>212.0</td>\n",
       "    </tr>\n",
       "    <tr>\n",
       "      <td>16</td>\n",
       "      <td>1002</td>\n",
       "      <td>September</td>\n",
       "      <td>36</td>\n",
       "      <td>206.0</td>\n",
       "    </tr>\n",
       "    <tr>\n",
       "      <td>17</td>\n",
       "      <td>1003</td>\n",
       "      <td>August</td>\n",
       "      <td>55</td>\n",
       "      <td>380.0</td>\n",
       "    </tr>\n",
       "    <tr>\n",
       "      <td>18</td>\n",
       "      <td>1003</td>\n",
       "      <td>December</td>\n",
       "      <td>108</td>\n",
       "      <td>802.0</td>\n",
       "    </tr>\n",
       "    <tr>\n",
       "      <td>19</td>\n",
       "      <td>1003</td>\n",
       "      <td>November</td>\n",
       "      <td>115</td>\n",
       "      <td>824.0</td>\n",
       "    </tr>\n",
       "    <tr>\n",
       "      <td>20</td>\n",
       "      <td>1003</td>\n",
       "      <td>October</td>\n",
       "      <td>108</td>\n",
       "      <td>855.0</td>\n",
       "    </tr>\n",
       "    <tr>\n",
       "      <td>21</td>\n",
       "      <td>1003</td>\n",
       "      <td>September</td>\n",
       "      <td>134</td>\n",
       "      <td>961.0</td>\n",
       "    </tr>\n",
       "    <tr>\n",
       "      <td>22</td>\n",
       "      <td>1004</td>\n",
       "      <td>August</td>\n",
       "      <td>19</td>\n",
       "      <td>137.0</td>\n",
       "    </tr>\n",
       "    <tr>\n",
       "      <td>23</td>\n",
       "      <td>1004</td>\n",
       "      <td>December</td>\n",
       "      <td>21</td>\n",
       "      <td>130.0</td>\n",
       "    </tr>\n",
       "    <tr>\n",
       "      <td>24</td>\n",
       "      <td>1004</td>\n",
       "      <td>July</td>\n",
       "      <td>22</td>\n",
       "      <td>135.0</td>\n",
       "    </tr>\n",
       "  </tbody>\n",
       "</table>\n",
       "</div>"
      ],
      "text/plain": [
       "    user_id      month  call_count  total_duration\n",
       "0      1000     August          52           408.0\n",
       "1      1000   December          46           333.0\n",
       "2      1000       July          47           340.0\n",
       "3      1000       June          43           172.0\n",
       "4      1000        May          22           159.0\n",
       "5      1000   November          43           338.0\n",
       "6      1000    October          57           350.0\n",
       "7      1000  September          58           466.0\n",
       "8      1001   December          63           414.0\n",
       "9      1001   November          59           430.0\n",
       "10     1002     August          42           289.0\n",
       "11     1002   December          33           236.0\n",
       "12     1002       July          26           214.0\n",
       "13     1002       June          15           117.0\n",
       "14     1002   November          32           243.0\n",
       "15     1002    October          33           212.0\n",
       "16     1002  September          36           206.0\n",
       "17     1003     August          55           380.0\n",
       "18     1003   December         108           802.0\n",
       "19     1003   November         115           824.0\n",
       "20     1003    October         108           855.0\n",
       "21     1003  September         134           961.0\n",
       "22     1004     August          19           137.0\n",
       "23     1004   December          21           130.0\n",
       "24     1004       July          22           135.0"
      ]
     },
     "metadata": {},
     "output_type": "display_data"
    },
    {
     "data": {
      "text/html": [
       "<div>\n",
       "<style scoped>\n",
       "    .dataframe tbody tr th:only-of-type {\n",
       "        vertical-align: middle;\n",
       "    }\n",
       "\n",
       "    .dataframe tbody tr th {\n",
       "        vertical-align: top;\n",
       "    }\n",
       "\n",
       "    .dataframe thead th {\n",
       "        text-align: right;\n",
       "    }\n",
       "</style>\n",
       "<table border=\"1\" class=\"dataframe\">\n",
       "  <thead>\n",
       "    <tr style=\"text-align: right;\">\n",
       "      <th></th>\n",
       "      <th>user_id</th>\n",
       "      <th>month</th>\n",
       "      <th>conected_count</th>\n",
       "      <th>total_traffic</th>\n",
       "    </tr>\n",
       "  </thead>\n",
       "  <tbody>\n",
       "    <tr>\n",
       "      <td>0</td>\n",
       "      <td>1000</td>\n",
       "      <td>August</td>\n",
       "      <td>29</td>\n",
       "      <td>14070</td>\n",
       "    </tr>\n",
       "    <tr>\n",
       "      <td>1</td>\n",
       "      <td>1000</td>\n",
       "      <td>December</td>\n",
       "      <td>21</td>\n",
       "      <td>9827</td>\n",
       "    </tr>\n",
       "    <tr>\n",
       "      <td>2</td>\n",
       "      <td>1000</td>\n",
       "      <td>July</td>\n",
       "      <td>29</td>\n",
       "      <td>14016</td>\n",
       "    </tr>\n",
       "    <tr>\n",
       "      <td>3</td>\n",
       "      <td>1000</td>\n",
       "      <td>June</td>\n",
       "      <td>49</td>\n",
       "      <td>23257</td>\n",
       "    </tr>\n",
       "    <tr>\n",
       "      <td>4</td>\n",
       "      <td>1000</td>\n",
       "      <td>May</td>\n",
       "      <td>5</td>\n",
       "      <td>2256</td>\n",
       "    </tr>\n",
       "    <tr>\n",
       "      <td>5</td>\n",
       "      <td>1000</td>\n",
       "      <td>November</td>\n",
       "      <td>24</td>\n",
       "      <td>14768</td>\n",
       "    </tr>\n",
       "    <tr>\n",
       "      <td>6</td>\n",
       "      <td>1000</td>\n",
       "      <td>October</td>\n",
       "      <td>27</td>\n",
       "      <td>14717</td>\n",
       "    </tr>\n",
       "    <tr>\n",
       "      <td>7</td>\n",
       "      <td>1000</td>\n",
       "      <td>September</td>\n",
       "      <td>27</td>\n",
       "      <td>14581</td>\n",
       "    </tr>\n",
       "    <tr>\n",
       "      <td>8</td>\n",
       "      <td>1001</td>\n",
       "      <td>December</td>\n",
       "      <td>41</td>\n",
       "      <td>14053</td>\n",
       "    </tr>\n",
       "    <tr>\n",
       "      <td>9</td>\n",
       "      <td>1001</td>\n",
       "      <td>November</td>\n",
       "      <td>55</td>\n",
       "      <td>18452</td>\n",
       "    </tr>\n",
       "    <tr>\n",
       "      <td>10</td>\n",
       "      <td>1002</td>\n",
       "      <td>August</td>\n",
       "      <td>60</td>\n",
       "      <td>20347</td>\n",
       "    </tr>\n",
       "    <tr>\n",
       "      <td>11</td>\n",
       "      <td>1002</td>\n",
       "      <td>December</td>\n",
       "      <td>62</td>\n",
       "      <td>18137</td>\n",
       "    </tr>\n",
       "    <tr>\n",
       "      <td>12</td>\n",
       "      <td>1002</td>\n",
       "      <td>July</td>\n",
       "      <td>58</td>\n",
       "      <td>17601</td>\n",
       "    </tr>\n",
       "    <tr>\n",
       "      <td>13</td>\n",
       "      <td>1002</td>\n",
       "      <td>June</td>\n",
       "      <td>34</td>\n",
       "      <td>10871</td>\n",
       "    </tr>\n",
       "    <tr>\n",
       "      <td>14</td>\n",
       "      <td>1002</td>\n",
       "      <td>November</td>\n",
       "      <td>55</td>\n",
       "      <td>18610</td>\n",
       "    </tr>\n",
       "    <tr>\n",
       "      <td>15</td>\n",
       "      <td>1002</td>\n",
       "      <td>October</td>\n",
       "      <td>44</td>\n",
       "      <td>13905</td>\n",
       "    </tr>\n",
       "    <tr>\n",
       "      <td>16</td>\n",
       "      <td>1002</td>\n",
       "      <td>September</td>\n",
       "      <td>56</td>\n",
       "      <td>16712</td>\n",
       "    </tr>\n",
       "    <tr>\n",
       "      <td>17</td>\n",
       "      <td>1003</td>\n",
       "      <td>August</td>\n",
       "      <td>15</td>\n",
       "      <td>8571</td>\n",
       "    </tr>\n",
       "    <tr>\n",
       "      <td>18</td>\n",
       "      <td>1003</td>\n",
       "      <td>December</td>\n",
       "      <td>21</td>\n",
       "      <td>10132</td>\n",
       "    </tr>\n",
       "    <tr>\n",
       "      <td>19</td>\n",
       "      <td>1003</td>\n",
       "      <td>November</td>\n",
       "      <td>21</td>\n",
       "      <td>11368</td>\n",
       "    </tr>\n",
       "  </tbody>\n",
       "</table>\n",
       "</div>"
      ],
      "text/plain": [
       "    user_id      month  conected_count  total_traffic\n",
       "0      1000     August              29          14070\n",
       "1      1000   December              21           9827\n",
       "2      1000       July              29          14016\n",
       "3      1000       June              49          23257\n",
       "4      1000        May               5           2256\n",
       "5      1000   November              24          14768\n",
       "6      1000    October              27          14717\n",
       "7      1000  September              27          14581\n",
       "8      1001   December              41          14053\n",
       "9      1001   November              55          18452\n",
       "10     1002     August              60          20347\n",
       "11     1002   December              62          18137\n",
       "12     1002       July              58          17601\n",
       "13     1002       June              34          10871\n",
       "14     1002   November              55          18610\n",
       "15     1002    October              44          13905\n",
       "16     1002  September              56          16712\n",
       "17     1003     August              15           8571\n",
       "18     1003   December              21          10132\n",
       "19     1003   November              21          11368"
      ]
     },
     "metadata": {},
     "output_type": "display_data"
    }
   ],
   "source": [
    "#Подсчитаем кол-во отправленных сообщений для каждого пользователя по месяцам\n",
    "messages['message_date']= pd.to_datetime(messages['message_date'])\n",
    "messages['month'] = messages['message_date'].dt.month_name()\n",
    "sum_user_messages = messages.groupby(['user_id','month']).agg({'message_date' : 'count'}).reset_index()\n",
    "sum_user_messages.columns = ['user_id','month','messages_count']\n",
    "#sum_user_messages = messages.pivot_table(index=['user_id',messages['message_date'].dt.month_name()],values='message_date',aggfunc='count')\n",
    "#display(messages.head())\n",
    "display(sum_user_messages.head(10))\n",
    "#Подсчитаем кол-во сделанных звонков для каждого пользователя по месяцам\n",
    "calls['call_date']= pd.to_datetime(calls['call_date'])\n",
    "calls['month'] = calls['call_date'].dt.month_name()\n",
    "sum_user_calls = calls.groupby(['user_id','month']).agg({'call_date' : 'count','duration' : 'sum'}).reset_index()\n",
    "sum_user_calls.columns = ['user_id','month','call_count','total_duration']\n",
    "display(sum_user_calls.head(25))\n",
    "#Подсчитаем израсходованный интернет траффик в мб для каждого пользователя по месяцам\n",
    "internet['session_date']= pd.to_datetime(internet['session_date'])\n",
    "internet['month'] = internet['session_date'].dt.month_name()\n",
    "sum_user_traffic = internet.groupby(['user_id','month']).agg({'session_date' : 'count','mb_used' : 'sum'}).reset_index()\n",
    "sum_user_traffic.columns = ['user_id','month','conected_count','total_traffic']\n",
    "display(sum_user_traffic.head(20))"
   ]
  },
  {
   "cell_type": "markdown",
   "metadata": {},
   "source": [
    "Выполнив все рассчеты можно однозначно сказать, что большинство пользователей не всегда используют все возможности предоставленного им тарифного плана(это заметно по месяцам ,по которым распределены те или иные использованные услуги оператора)."
   ]
  },
  {
   "cell_type": "markdown",
   "metadata": {},
   "source": [
    "### Общая статистика по пользователям"
   ]
  },
  {
   "cell_type": "code",
   "execution_count": 5,
   "metadata": {
    "scrolled": true
   },
   "outputs": [
    {
     "data": {
      "text/html": [
       "<div>\n",
       "<style scoped>\n",
       "    .dataframe tbody tr th:only-of-type {\n",
       "        vertical-align: middle;\n",
       "    }\n",
       "\n",
       "    .dataframe tbody tr th {\n",
       "        vertical-align: top;\n",
       "    }\n",
       "\n",
       "    .dataframe thead th {\n",
       "        text-align: right;\n",
       "    }\n",
       "</style>\n",
       "<table border=\"1\" class=\"dataframe\">\n",
       "  <thead>\n",
       "    <tr style=\"text-align: right;\">\n",
       "      <th></th>\n",
       "      <th>user_id</th>\n",
       "      <th>city</th>\n",
       "      <th>tariff</th>\n",
       "      <th>messages_included</th>\n",
       "      <th>mb_per_month_included</th>\n",
       "      <th>minutes_included</th>\n",
       "      <th>rub_monthly_fee</th>\n",
       "      <th>rub_per_gb</th>\n",
       "      <th>rub_per_message</th>\n",
       "      <th>rub_per_minute</th>\n",
       "      <th>month</th>\n",
       "      <th>conected_count</th>\n",
       "      <th>total_traffic</th>\n",
       "      <th>call_count</th>\n",
       "      <th>total_duration</th>\n",
       "      <th>messages_count</th>\n",
       "    </tr>\n",
       "  </thead>\n",
       "  <tbody>\n",
       "    <tr>\n",
       "      <td>0</td>\n",
       "      <td>1000</td>\n",
       "      <td>Краснодар</td>\n",
       "      <td>ultra</td>\n",
       "      <td>1000</td>\n",
       "      <td>30720</td>\n",
       "      <td>3000</td>\n",
       "      <td>1950</td>\n",
       "      <td>150</td>\n",
       "      <td>1</td>\n",
       "      <td>1</td>\n",
       "      <td>August</td>\n",
       "      <td>29.0</td>\n",
       "      <td>14.0</td>\n",
       "      <td>52.0</td>\n",
       "      <td>408.0</td>\n",
       "      <td>81.0</td>\n",
       "    </tr>\n",
       "    <tr>\n",
       "      <td>1</td>\n",
       "      <td>1000</td>\n",
       "      <td>Краснодар</td>\n",
       "      <td>ultra</td>\n",
       "      <td>1000</td>\n",
       "      <td>30720</td>\n",
       "      <td>3000</td>\n",
       "      <td>1950</td>\n",
       "      <td>150</td>\n",
       "      <td>1</td>\n",
       "      <td>1</td>\n",
       "      <td>December</td>\n",
       "      <td>21.0</td>\n",
       "      <td>10.0</td>\n",
       "      <td>46.0</td>\n",
       "      <td>333.0</td>\n",
       "      <td>70.0</td>\n",
       "    </tr>\n",
       "    <tr>\n",
       "      <td>2</td>\n",
       "      <td>1000</td>\n",
       "      <td>Краснодар</td>\n",
       "      <td>ultra</td>\n",
       "      <td>1000</td>\n",
       "      <td>30720</td>\n",
       "      <td>3000</td>\n",
       "      <td>1950</td>\n",
       "      <td>150</td>\n",
       "      <td>1</td>\n",
       "      <td>1</td>\n",
       "      <td>July</td>\n",
       "      <td>29.0</td>\n",
       "      <td>14.0</td>\n",
       "      <td>47.0</td>\n",
       "      <td>340.0</td>\n",
       "      <td>75.0</td>\n",
       "    </tr>\n",
       "    <tr>\n",
       "      <td>3</td>\n",
       "      <td>1000</td>\n",
       "      <td>Краснодар</td>\n",
       "      <td>ultra</td>\n",
       "      <td>1000</td>\n",
       "      <td>30720</td>\n",
       "      <td>3000</td>\n",
       "      <td>1950</td>\n",
       "      <td>150</td>\n",
       "      <td>1</td>\n",
       "      <td>1</td>\n",
       "      <td>June</td>\n",
       "      <td>49.0</td>\n",
       "      <td>23.0</td>\n",
       "      <td>43.0</td>\n",
       "      <td>172.0</td>\n",
       "      <td>60.0</td>\n",
       "    </tr>\n",
       "    <tr>\n",
       "      <td>4</td>\n",
       "      <td>1000</td>\n",
       "      <td>Краснодар</td>\n",
       "      <td>ultra</td>\n",
       "      <td>1000</td>\n",
       "      <td>30720</td>\n",
       "      <td>3000</td>\n",
       "      <td>1950</td>\n",
       "      <td>150</td>\n",
       "      <td>1</td>\n",
       "      <td>1</td>\n",
       "      <td>May</td>\n",
       "      <td>5.0</td>\n",
       "      <td>3.0</td>\n",
       "      <td>22.0</td>\n",
       "      <td>159.0</td>\n",
       "      <td>22.0</td>\n",
       "    </tr>\n",
       "    <tr>\n",
       "      <td>5</td>\n",
       "      <td>1000</td>\n",
       "      <td>Краснодар</td>\n",
       "      <td>ultra</td>\n",
       "      <td>1000</td>\n",
       "      <td>30720</td>\n",
       "      <td>3000</td>\n",
       "      <td>1950</td>\n",
       "      <td>150</td>\n",
       "      <td>1</td>\n",
       "      <td>1</td>\n",
       "      <td>November</td>\n",
       "      <td>24.0</td>\n",
       "      <td>15.0</td>\n",
       "      <td>43.0</td>\n",
       "      <td>338.0</td>\n",
       "      <td>58.0</td>\n",
       "    </tr>\n",
       "    <tr>\n",
       "      <td>6</td>\n",
       "      <td>1000</td>\n",
       "      <td>Краснодар</td>\n",
       "      <td>ultra</td>\n",
       "      <td>1000</td>\n",
       "      <td>30720</td>\n",
       "      <td>3000</td>\n",
       "      <td>1950</td>\n",
       "      <td>150</td>\n",
       "      <td>1</td>\n",
       "      <td>1</td>\n",
       "      <td>October</td>\n",
       "      <td>27.0</td>\n",
       "      <td>15.0</td>\n",
       "      <td>57.0</td>\n",
       "      <td>350.0</td>\n",
       "      <td>73.0</td>\n",
       "    </tr>\n",
       "    <tr>\n",
       "      <td>7</td>\n",
       "      <td>1000</td>\n",
       "      <td>Краснодар</td>\n",
       "      <td>ultra</td>\n",
       "      <td>1000</td>\n",
       "      <td>30720</td>\n",
       "      <td>3000</td>\n",
       "      <td>1950</td>\n",
       "      <td>150</td>\n",
       "      <td>1</td>\n",
       "      <td>1</td>\n",
       "      <td>September</td>\n",
       "      <td>27.0</td>\n",
       "      <td>15.0</td>\n",
       "      <td>58.0</td>\n",
       "      <td>466.0</td>\n",
       "      <td>57.0</td>\n",
       "    </tr>\n",
       "    <tr>\n",
       "      <td>8</td>\n",
       "      <td>1003</td>\n",
       "      <td>Москва</td>\n",
       "      <td>ultra</td>\n",
       "      <td>1000</td>\n",
       "      <td>30720</td>\n",
       "      <td>3000</td>\n",
       "      <td>1950</td>\n",
       "      <td>150</td>\n",
       "      <td>1</td>\n",
       "      <td>1</td>\n",
       "      <td>August</td>\n",
       "      <td>15.0</td>\n",
       "      <td>9.0</td>\n",
       "      <td>55.0</td>\n",
       "      <td>380.0</td>\n",
       "      <td>37.0</td>\n",
       "    </tr>\n",
       "    <tr>\n",
       "      <td>9</td>\n",
       "      <td>1003</td>\n",
       "      <td>Москва</td>\n",
       "      <td>ultra</td>\n",
       "      <td>1000</td>\n",
       "      <td>30720</td>\n",
       "      <td>3000</td>\n",
       "      <td>1950</td>\n",
       "      <td>150</td>\n",
       "      <td>1</td>\n",
       "      <td>1</td>\n",
       "      <td>December</td>\n",
       "      <td>21.0</td>\n",
       "      <td>10.0</td>\n",
       "      <td>108.0</td>\n",
       "      <td>802.0</td>\n",
       "      <td>75.0</td>\n",
       "    </tr>\n",
       "  </tbody>\n",
       "</table>\n",
       "</div>"
      ],
      "text/plain": [
       "   user_id       city tariff  messages_included  mb_per_month_included  \\\n",
       "0     1000  Краснодар  ultra               1000                  30720   \n",
       "1     1000  Краснодар  ultra               1000                  30720   \n",
       "2     1000  Краснодар  ultra               1000                  30720   \n",
       "3     1000  Краснодар  ultra               1000                  30720   \n",
       "4     1000  Краснодар  ultra               1000                  30720   \n",
       "5     1000  Краснодар  ultra               1000                  30720   \n",
       "6     1000  Краснодар  ultra               1000                  30720   \n",
       "7     1000  Краснодар  ultra               1000                  30720   \n",
       "8     1003     Москва  ultra               1000                  30720   \n",
       "9     1003     Москва  ultra               1000                  30720   \n",
       "\n",
       "   minutes_included  rub_monthly_fee  rub_per_gb  rub_per_message  \\\n",
       "0              3000             1950         150                1   \n",
       "1              3000             1950         150                1   \n",
       "2              3000             1950         150                1   \n",
       "3              3000             1950         150                1   \n",
       "4              3000             1950         150                1   \n",
       "5              3000             1950         150                1   \n",
       "6              3000             1950         150                1   \n",
       "7              3000             1950         150                1   \n",
       "8              3000             1950         150                1   \n",
       "9              3000             1950         150                1   \n",
       "\n",
       "   rub_per_minute      month  conected_count  total_traffic  call_count  \\\n",
       "0               1     August            29.0           14.0        52.0   \n",
       "1               1   December            21.0           10.0        46.0   \n",
       "2               1       July            29.0           14.0        47.0   \n",
       "3               1       June            49.0           23.0        43.0   \n",
       "4               1        May             5.0            3.0        22.0   \n",
       "5               1   November            24.0           15.0        43.0   \n",
       "6               1    October            27.0           15.0        57.0   \n",
       "7               1  September            27.0           15.0        58.0   \n",
       "8               1     August            15.0            9.0        55.0   \n",
       "9               1   December            21.0           10.0       108.0   \n",
       "\n",
       "   total_duration  messages_count  \n",
       "0           408.0            81.0  \n",
       "1           333.0            70.0  \n",
       "2           340.0            75.0  \n",
       "3           172.0            60.0  \n",
       "4           159.0            22.0  \n",
       "5           338.0            58.0  \n",
       "6           350.0            73.0  \n",
       "7           466.0            57.0  \n",
       "8           380.0            37.0  \n",
       "9           802.0            75.0  "
      ]
     },
     "metadata": {},
     "output_type": "display_data"
    },
    {
     "data": {
      "text/plain": [
       "array([1950.,    0., 2700., 3900., 3300., 3000., 4800., 2400., 2550.,\n",
       "       2850., 2250., 3150., 3750., 2100., 4050., 3450., 1550., 1150.,\n",
       "        550., 1350.,  950., 1186.,  949.,  838.,  775.,  886.,  835.,\n",
       "        694., 1219.,  556., 1750.,  981.,  685., 1190., 1015.,  568.,\n",
       "       2350.,  750., 1995., 2150., 1356., 2553., 1540., 2950., 3350.,\n",
       "       2750., 2559., 2153., 3004., 1622., 1838., 3040., 1019., 1983.,\n",
       "       1235., 1004., 1672., 3321.,  986.,  959.,  781., 1906.,  739.,\n",
       "       1009.,  592., 1064.,  655., 1998., 2919., 1723., 1087., 2313.,\n",
       "        691.,  676.,  703.,  718., 1473.,  673.,  679.,  736., 1045.,\n",
       "       1013., 1171., 2031., 1816., 2616., 1640., 2831., 1697.,  562.,\n",
       "        553.,  589., 1359., 1112.,  840., 3233., 5709., 1661., 2186.,\n",
       "       2189.,  971.,  995.,  574., 1965., 2213.,  756., 2115., 1885.,\n",
       "        762., 3985., 3584.,  601., 1951., 1765., 2264., 2130., 2788.,\n",
       "       1154., 1074., 1671., 1812., 1488., 1476., 1248., 2219., 1911.,\n",
       "       2441., 1103., 2004.,  924., 1553., 2210., 1321., 2813., 2028.,\n",
       "       1131., 2765., 2263., 1608., 1948., 2367., 1954., 1214., 1539.,\n",
       "       2601., 2605., 1807., 1556., 3575., 2234., 3195., 4011., 2362.,\n",
       "       2395., 1705.,  873., 1069.,  634.,  976.,  619.,  604.,  712.,\n",
       "       2916.,  798., 3375., 1942., 2712., 3550., 2301., 2201., 3053.,\n",
       "        849., 2190., 1046., 1975., 2014., 3211., 1858.,  819., 2106.,\n",
       "        802., 2182., 1724., 3202., 1908.,  784.,  826.,  871.,  730.,\n",
       "        859.,  721., 1016., 1365.,  753., 1688., 1698., 1297., 1106.,\n",
       "        948., 1580.,  837.,  577., 1034., 2577., 2589., 2810., 2353.,\n",
       "       2368., 2475., 3640., 1155., 2457., 2704., 1591., 5014., 1870.,\n",
       "       2035., 1191.,  823., 1246., 1040.,  727., 2268., 1864., 1670.,\n",
       "       2646., 2837., 3410.,  962., 1057., 1410., 3046., 2361.,  706.,\n",
       "        841., 1805., 1012., 1180., 1126.,  934.,  974.,  733.,  964.,\n",
       "        916., 1006.,  953., 2783.,  643., 1002., 1205., 1962., 1133.,\n",
       "       2288., 1294., 1423., 2069., 1446.,  637., 1007.,  661.,  625.,\n",
       "        807.,  616.,  980., 1605., 1368., 1651., 1437., 1047.,  583.,\n",
       "       2641.,  994., 1120., 1079.,  792.,  751., 1404., 1571., 1038.,\n",
       "        963.,  586., 1342., 1655., 3870., 4427., 3136., 2953.,  975.,\n",
       "       1763.,  816., 1159.,  804., 1198.,  640., 1706.,  622., 1413.,\n",
       "        580., 1202.,  787., 1993.,  697.,  834., 1461., 1679., 1270.,\n",
       "       2097.,  772., 2076., 1436.,  670., 2697., 2419., 2855., 2273.,\n",
       "       2622., 1831.,  912.,  765.,  565.,  745.,  571.,  786.,  595.,\n",
       "       5252., 1174., 1036., 1141., 1000., 1479., 1078., 1354., 4473.,\n",
       "       2261., 4150., 2247., 3315., 3083., 2773., 2096., 1116., 1683.,\n",
       "       1464., 2185.,  607.,  628., 2022.,  907.,  992., 1565.,  777.,\n",
       "        883.,  646., 3246., 1987.,  942.,  658.,  958., 1030.,  688.,\n",
       "        829.,  910., 1147.,  613.,  989., 1790., 2007., 1095., 1138.,\n",
       "       1576., 1489., 1554., 1715., 2903., 1137., 2309., 1387., 2067.,\n",
       "       2661., 1768., 1135.,  649., 2064., 1419., 1380., 1628., 2187.,\n",
       "        909., 1713., 2147.,  598.,  631., 1151., 4397.,  955., 1181.,\n",
       "        763.,  901., 1804., 1974., 2403., 2095., 2510., 2907., 1856.,\n",
       "       2952., 2893., 2643., 1288., 1647., 1494., 2944., 4116., 3266.,\n",
       "       2233., 2063., 2310., 2065., 3693., 2239., 1529., 2121., 2194.,\n",
       "       1739., 2291., 1662.,  831., 1716., 3037., 2046.,  888., 1834.,\n",
       "       2725., 2094., 2270., 2852., 1279., 2688., 2452., 2897., 2630.,\n",
       "       2595., 5672., 4664., 2446., 1915., 2068., 1681., 2766., 1183.,\n",
       "        724., 1158., 1411., 1467., 1753., 1252., 1073., 1234., 1536.,\n",
       "       2681.,  868., 1587.,  877., 1907., 1312., 1487., 1500., 1336.,\n",
       "       2164., 1051., 1330., 1825., 2609., 1039., 1943., 2049.,  715.,\n",
       "        742., 5321., 2378., 3774.,  808., 2248., 1145., 1891., 3152.,\n",
       "       1992., 1930., 2592.,  810., 1646., 1631., 1440., 1228., 2165.,\n",
       "       1624., 1439., 1709., 1784.,  783.,  828.,  998., 1649., 2489.,\n",
       "       2396., 3342., 3409., 2608., 2414., 1153., 2780.,  769., 1389.,\n",
       "       1563., 1227., 1177., 1573., 1684., 2675., 1774., 2665., 2467.,\n",
       "       1777.,  977., 1969., 1285., 2180., 3448., 2537., 2468., 3773.,\n",
       "       2077., 4231., 3253.,  780.,  559.,  850., 1859., 2073.,  862.,\n",
       "       1455.,  867., 1833., 1956., 2162., 1559.,  965., 3076., 3070.,\n",
       "       1407., 1395.,  918.,  973.,  922.,  919.,  778., 1093., 1828.,\n",
       "       1673., 1263., 4396., 1867., 1168., 2365., 1381., 1023., 1798.,\n",
       "       1771., 1401., 1208., 2191.,  766., 1696., 1504., 2274., 2861.,\n",
       "       1669., 3251., 2571., 3759., 2055., 1430., 1148., 1490., 1820.,\n",
       "       1062., 1776., 1960., 1821., 1445.,  882., 2254., 1761., 2017.,\n",
       "       2295., 2822., 3125., 1392., 1092., 2322., 1300., 1909., 1779.,\n",
       "       1652., 1415., 1849., 2915., 1552., 1146., 3612., 2179., 1577.,\n",
       "       1156., 1043., 1362.,  847., 1789., 2380., 1959., 1523., 1454.,\n",
       "       1339., 1785., 1113., 1441., 2218., 2628., 1823.,  874., 1616.,\n",
       "       1882., 1237.,  858., 2146., 2433., 2587., 3073., 1139.,  927.,\n",
       "        844., 1192., 1551.,  930., 2408., 1083., 1733., 3145., 1982.,\n",
       "       1049., 1176., 3148., 1824., 1806., 1014.,  925., 1923.,  993.,\n",
       "        891., 1634., 2882., 1597., 1236.,  652.,  870., 1063.,  889.,\n",
       "        956., 1318., 1912., 1583., 1732., 3915., 1005., 1637., 2298.,\n",
       "       2041., 2343., 1076., 1241., 1251., 1883.,  967., 1574., 1450.,\n",
       "       1055., 1767., 2705., 2252., 1566., 2480., 2768., 2307., 1898.,\n",
       "       3306., 2410., 2118., 1416.,  900., 1010., 2223., 2323., 1108.,\n",
       "       2443., 1289., 2245., 2606., 1527., 1163., 6770., 5680., 1109.,\n",
       "       3393., 2332., 1813., 2431., 3432., 2596., 2721., 3036., 1685.,\n",
       "       2386., 1513.])"
      ]
     },
     "metadata": {},
     "output_type": "display_data"
    }
   ],
   "source": [
    "#Объединим таблицы пользователи и их тарифы, чтобы была одна единая таблица по пользователям, позже сделаем таблицу со статистикой\n",
    "users_tariffs = users.merge(tariffs,on='tariff',how='outer')\n",
    "##### Сделаем общую статистику по пользователям\n",
    "statistics_table = sum_user_traffic.merge(sum_user_calls,on=['user_id','month'],how='outer').merge(sum_user_messages,on=['user_id','month'],how='outer')\n",
    "statistics_table = users_tariffs.merge(statistics_table,on='user_id',how='outer')\n",
    "#statistics_table = pd.merge(statistics_table,sum_user_messages,on=['user_id','month'],how='outer')\n",
    "#statistics_table = pd.merge(statistics_table,sum_user_traffic,on=['user_id','month'],how='outer')\n",
    "#statistics_table = pd.merge(statistics_table,internet[['mb_per_month_included','rub_monthly_fee',\n",
    "                                                      #'minutes_included','rub_per_minute',\n",
    "                                                      #'messages_included','rub_per_message']],\n",
    "                                                      # on=['user_id','month'],how='outer')\n",
    "#Удалим лишние колонки,которые мешают \n",
    "#statistics_table.drop(columns=['id','call_date','duration'],inplace=True,axis=1)\n",
    "statistics_table.drop(columns=['age','churn_date','first_name','last_name','reg_date'],inplace=True,axis=1)\n",
    "#Приведем в порядок некоторые значения в таблице, для удобства рассчетов(Интернет траффик в Гб)\n",
    "statistics_table['total_traffic'] = (statistics_table['total_traffic'] / 1024)\n",
    "statistics_table['total_traffic'] = statistics_table['total_traffic'].apply(np.ceil)\n",
    "#statistics_table = statistics_table.groupby(['user_id','month'])\n",
    "\n",
    "display(statistics_table.head(10))\n",
    "\n",
    "#Вычислим получение прибыли с каждого пользователя\n",
    "def profit_per_user(row):\n",
    "    # считаем овердрафты\n",
    "    monthly_fee = row['rub_monthly_fee']\n",
    "    minutes_over = (row['total_duration'] - row['minutes_included']) *  row['rub_per_minute']\n",
    "    messages_over = (row['messages_count'] - row['messages_included']) * row['rub_per_message']\n",
    "    gb_over = (row['total_traffic'] - (row['mb_per_month_included'] / 1024)) * row['rub_per_gb']\n",
    "     # убираем отрицательные овердрафты\n",
    "    if minutes_over < 0: minutes_over = 0\n",
    "    if messages_over < 0: messages_over = 0\n",
    "    if gb_over < 0: gb_over = 0\n",
    "    return minutes_over + messages_over + gb_over + monthly_fee\n",
    "statistics_table['profit'] = statistics_table.apply(profit_per_user,axis=1)\n",
    "statistics_table.loc[statistics_table['profit'].isna(), 'profit'] = statistics_table['profit'].replace(np.nan,0)\n",
    "display(statistics_table['profit'].unique())"
   ]
  },
  {
   "cell_type": "markdown",
   "metadata": {},
   "source": [
    "Выполнив объединения таблиц , мы смогли свести все данные в единую базу и используя полученные данные смогли рассчитать выручку, которую получил оператор с каждого пользователя по месяцам."
   ]
  },
  {
   "cell_type": "code",
   "execution_count": 6,
   "metadata": {},
   "outputs": [
    {
     "data": {
      "text/plain": [
       "(3216, 17)"
      ]
     },
     "execution_count": 6,
     "metadata": {},
     "output_type": "execute_result"
    }
   ],
   "source": [
    "statistics_table.shape"
   ]
  },
  {
   "cell_type": "code",
   "execution_count": null,
   "metadata": {},
   "outputs": [],
   "source": [
    "statistics_table = calls.merge(\n",
    "    sum_user_calls,\n",
    "    on=['user_id','month'],how='outer').merge(\n",
    "        sum_user_messages,\n",
    "        on=['user_id','month'],how='outer').merge(\n",
    "            sum_user_traffic,\n",
    "            on=['user_id','month'],how='outer')\n"
   ]
  },
  {
   "cell_type": "markdown",
   "metadata": {},
   "source": [
    "## Анализ и описание данных"
   ]
  },
  {
   "cell_type": "code",
   "execution_count": 8,
   "metadata": {},
   "outputs": [
    {
     "ename": "UndefinedVariableError",
     "evalue": "name 'tariff' is not defined",
     "output_type": "error",
     "traceback": [
      "\u001b[0;31m---------------------------------------------------------------------------\u001b[0m",
      "\u001b[0;31mKeyError\u001b[0m                                  Traceback (most recent call last)",
      "\u001b[0;32m/opt/conda/lib/python3.7/site-packages/pandas/core/computation/scope.py\u001b[0m in \u001b[0;36mresolve\u001b[0;34m(self, key, is_local)\u001b[0m\n\u001b[1;32m    187\u001b[0m             \u001b[0;32mif\u001b[0m \u001b[0mself\u001b[0m\u001b[0;34m.\u001b[0m\u001b[0mhas_resolvers\u001b[0m\u001b[0;34m:\u001b[0m\u001b[0;34m\u001b[0m\u001b[0;34m\u001b[0m\u001b[0m\n\u001b[0;32m--> 188\u001b[0;31m                 \u001b[0;32mreturn\u001b[0m \u001b[0mself\u001b[0m\u001b[0;34m.\u001b[0m\u001b[0mresolvers\u001b[0m\u001b[0;34m[\u001b[0m\u001b[0mkey\u001b[0m\u001b[0;34m]\u001b[0m\u001b[0;34m\u001b[0m\u001b[0;34m\u001b[0m\u001b[0m\n\u001b[0m\u001b[1;32m    189\u001b[0m \u001b[0;34m\u001b[0m\u001b[0m\n",
      "\u001b[0;32m/opt/conda/lib/python3.7/collections/__init__.py\u001b[0m in \u001b[0;36m__getitem__\u001b[0;34m(self, key)\u001b[0m\n\u001b[1;32m    915\u001b[0m                 \u001b[0;32mpass\u001b[0m\u001b[0;34m\u001b[0m\u001b[0;34m\u001b[0m\u001b[0m\n\u001b[0;32m--> 916\u001b[0;31m         \u001b[0;32mreturn\u001b[0m \u001b[0mself\u001b[0m\u001b[0;34m.\u001b[0m\u001b[0m__missing__\u001b[0m\u001b[0;34m(\u001b[0m\u001b[0mkey\u001b[0m\u001b[0;34m)\u001b[0m            \u001b[0;31m# support subclasses that define __missing__\u001b[0m\u001b[0;34m\u001b[0m\u001b[0;34m\u001b[0m\u001b[0m\n\u001b[0m\u001b[1;32m    917\u001b[0m \u001b[0;34m\u001b[0m\u001b[0m\n",
      "\u001b[0;32m/opt/conda/lib/python3.7/collections/__init__.py\u001b[0m in \u001b[0;36m__missing__\u001b[0;34m(self, key)\u001b[0m\n\u001b[1;32m    907\u001b[0m     \u001b[0;32mdef\u001b[0m \u001b[0m__missing__\u001b[0m\u001b[0;34m(\u001b[0m\u001b[0mself\u001b[0m\u001b[0;34m,\u001b[0m \u001b[0mkey\u001b[0m\u001b[0;34m)\u001b[0m\u001b[0;34m:\u001b[0m\u001b[0;34m\u001b[0m\u001b[0;34m\u001b[0m\u001b[0m\n\u001b[0;32m--> 908\u001b[0;31m         \u001b[0;32mraise\u001b[0m \u001b[0mKeyError\u001b[0m\u001b[0;34m(\u001b[0m\u001b[0mkey\u001b[0m\u001b[0;34m)\u001b[0m\u001b[0;34m\u001b[0m\u001b[0;34m\u001b[0m\u001b[0m\n\u001b[0m\u001b[1;32m    909\u001b[0m \u001b[0;34m\u001b[0m\u001b[0m\n",
      "\u001b[0;31mKeyError\u001b[0m: 'tariff'",
      "\nDuring handling of the above exception, another exception occurred:\n",
      "\u001b[0;31mKeyError\u001b[0m                                  Traceback (most recent call last)",
      "\u001b[0;32m/opt/conda/lib/python3.7/site-packages/pandas/core/computation/scope.py\u001b[0m in \u001b[0;36mresolve\u001b[0;34m(self, key, is_local)\u001b[0m\n\u001b[1;32m    198\u001b[0m                 \u001b[0;31m# e.g., df[df > 0]\u001b[0m\u001b[0;34m\u001b[0m\u001b[0;34m\u001b[0m\u001b[0;34m\u001b[0m\u001b[0m\n\u001b[0;32m--> 199\u001b[0;31m                 \u001b[0;32mreturn\u001b[0m \u001b[0mself\u001b[0m\u001b[0;34m.\u001b[0m\u001b[0mtemps\u001b[0m\u001b[0;34m[\u001b[0m\u001b[0mkey\u001b[0m\u001b[0;34m]\u001b[0m\u001b[0;34m\u001b[0m\u001b[0;34m\u001b[0m\u001b[0m\n\u001b[0m\u001b[1;32m    200\u001b[0m             \u001b[0;32mexcept\u001b[0m \u001b[0mKeyError\u001b[0m\u001b[0;34m:\u001b[0m\u001b[0;34m\u001b[0m\u001b[0;34m\u001b[0m\u001b[0m\n",
      "\u001b[0;31mKeyError\u001b[0m: 'tariff'",
      "\nDuring handling of the above exception, another exception occurred:\n",
      "\u001b[0;31mUndefinedVariableError\u001b[0m                    Traceback (most recent call last)",
      "\u001b[0;32m<ipython-input-8-987ce7c036c4>\u001b[0m in \u001b[0;36m<module>\u001b[0;34m\u001b[0m\n\u001b[1;32m      1\u001b[0m \u001b[0;31m#Разделеим статистику пользователей по тарифам\u001b[0m\u001b[0;34m\u001b[0m\u001b[0;34m\u001b[0m\u001b[0;34m\u001b[0m\u001b[0m\n\u001b[0;32m----> 2\u001b[0;31m \u001b[0mtariff_ultra\u001b[0m \u001b[0;34m=\u001b[0m \u001b[0mstatistics_table\u001b[0m\u001b[0;34m.\u001b[0m\u001b[0mquery\u001b[0m\u001b[0;34m(\u001b[0m\u001b[0;34m'tariff == \"ultra\"'\u001b[0m\u001b[0;34m)\u001b[0m\u001b[0;34m\u001b[0m\u001b[0;34m\u001b[0m\u001b[0m\n\u001b[0m\u001b[1;32m      3\u001b[0m \u001b[0mtariff_smart\u001b[0m \u001b[0;34m=\u001b[0m \u001b[0mstatistics_table\u001b[0m\u001b[0;34m.\u001b[0m\u001b[0mquery\u001b[0m\u001b[0;34m(\u001b[0m\u001b[0;34m'tariff == \"smart\"'\u001b[0m\u001b[0;34m)\u001b[0m\u001b[0;34m\u001b[0m\u001b[0;34m\u001b[0m\u001b[0m\n\u001b[1;32m      4\u001b[0m \u001b[0;31m#Рассчитаем среднее значение для звонков(использованные минуты разговора),сообщений,использованного траффика\u001b[0m\u001b[0;34m\u001b[0m\u001b[0;34m\u001b[0m\u001b[0;34m\u001b[0m\u001b[0m\n\u001b[1;32m      5\u001b[0m \u001b[0mtotal_duration_mean_1\u001b[0m \u001b[0;34m=\u001b[0m \u001b[0mtariff_ultra\u001b[0m\u001b[0;34m[\u001b[0m\u001b[0;34m'total_duration'\u001b[0m\u001b[0;34m]\u001b[0m\u001b[0;34m.\u001b[0m\u001b[0mmean\u001b[0m\u001b[0;34m(\u001b[0m\u001b[0;34m)\u001b[0m  \u001b[0;31m#  ср.значение по звонкам\u001b[0m\u001b[0;34m\u001b[0m\u001b[0;34m\u001b[0m\u001b[0m\n",
      "\u001b[0;32m/opt/conda/lib/python3.7/site-packages/pandas/core/frame.py\u001b[0m in \u001b[0;36mquery\u001b[0;34m(self, expr, inplace, **kwargs)\u001b[0m\n\u001b[1;32m   3182\u001b[0m         \u001b[0mkwargs\u001b[0m\u001b[0;34m[\u001b[0m\u001b[0;34m\"level\"\u001b[0m\u001b[0;34m]\u001b[0m \u001b[0;34m=\u001b[0m \u001b[0mkwargs\u001b[0m\u001b[0;34m.\u001b[0m\u001b[0mpop\u001b[0m\u001b[0;34m(\u001b[0m\u001b[0;34m\"level\"\u001b[0m\u001b[0;34m,\u001b[0m \u001b[0;36m0\u001b[0m\u001b[0;34m)\u001b[0m \u001b[0;34m+\u001b[0m \u001b[0;36m1\u001b[0m\u001b[0;34m\u001b[0m\u001b[0;34m\u001b[0m\u001b[0m\n\u001b[1;32m   3183\u001b[0m         \u001b[0mkwargs\u001b[0m\u001b[0;34m[\u001b[0m\u001b[0;34m\"target\"\u001b[0m\u001b[0;34m]\u001b[0m \u001b[0;34m=\u001b[0m \u001b[0;32mNone\u001b[0m\u001b[0;34m\u001b[0m\u001b[0;34m\u001b[0m\u001b[0m\n\u001b[0;32m-> 3184\u001b[0;31m         \u001b[0mres\u001b[0m \u001b[0;34m=\u001b[0m \u001b[0mself\u001b[0m\u001b[0;34m.\u001b[0m\u001b[0meval\u001b[0m\u001b[0;34m(\u001b[0m\u001b[0mexpr\u001b[0m\u001b[0;34m,\u001b[0m \u001b[0;34m**\u001b[0m\u001b[0mkwargs\u001b[0m\u001b[0;34m)\u001b[0m\u001b[0;34m\u001b[0m\u001b[0;34m\u001b[0m\u001b[0m\n\u001b[0m\u001b[1;32m   3185\u001b[0m \u001b[0;34m\u001b[0m\u001b[0m\n\u001b[1;32m   3186\u001b[0m         \u001b[0;32mtry\u001b[0m\u001b[0;34m:\u001b[0m\u001b[0;34m\u001b[0m\u001b[0;34m\u001b[0m\u001b[0m\n",
      "\u001b[0;32m/opt/conda/lib/python3.7/site-packages/pandas/core/frame.py\u001b[0m in \u001b[0;36meval\u001b[0;34m(self, expr, inplace, **kwargs)\u001b[0m\n\u001b[1;32m   3298\u001b[0m             \u001b[0mkwargs\u001b[0m\u001b[0;34m[\u001b[0m\u001b[0;34m\"target\"\u001b[0m\u001b[0;34m]\u001b[0m \u001b[0;34m=\u001b[0m \u001b[0mself\u001b[0m\u001b[0;34m\u001b[0m\u001b[0;34m\u001b[0m\u001b[0m\n\u001b[1;32m   3299\u001b[0m         \u001b[0mkwargs\u001b[0m\u001b[0;34m[\u001b[0m\u001b[0;34m\"resolvers\"\u001b[0m\u001b[0;34m]\u001b[0m \u001b[0;34m=\u001b[0m \u001b[0mkwargs\u001b[0m\u001b[0;34m.\u001b[0m\u001b[0mget\u001b[0m\u001b[0;34m(\u001b[0m\u001b[0;34m\"resolvers\"\u001b[0m\u001b[0;34m,\u001b[0m \u001b[0;34m(\u001b[0m\u001b[0;34m)\u001b[0m\u001b[0;34m)\u001b[0m \u001b[0;34m+\u001b[0m \u001b[0mtuple\u001b[0m\u001b[0;34m(\u001b[0m\u001b[0mresolvers\u001b[0m\u001b[0;34m)\u001b[0m\u001b[0;34m\u001b[0m\u001b[0;34m\u001b[0m\u001b[0m\n\u001b[0;32m-> 3300\u001b[0;31m         \u001b[0;32mreturn\u001b[0m \u001b[0m_eval\u001b[0m\u001b[0;34m(\u001b[0m\u001b[0mexpr\u001b[0m\u001b[0;34m,\u001b[0m \u001b[0minplace\u001b[0m\u001b[0;34m=\u001b[0m\u001b[0minplace\u001b[0m\u001b[0;34m,\u001b[0m \u001b[0;34m**\u001b[0m\u001b[0mkwargs\u001b[0m\u001b[0;34m)\u001b[0m\u001b[0;34m\u001b[0m\u001b[0;34m\u001b[0m\u001b[0m\n\u001b[0m\u001b[1;32m   3301\u001b[0m \u001b[0;34m\u001b[0m\u001b[0m\n\u001b[1;32m   3302\u001b[0m     \u001b[0;32mdef\u001b[0m \u001b[0mselect_dtypes\u001b[0m\u001b[0;34m(\u001b[0m\u001b[0mself\u001b[0m\u001b[0;34m,\u001b[0m \u001b[0minclude\u001b[0m\u001b[0;34m=\u001b[0m\u001b[0;32mNone\u001b[0m\u001b[0;34m,\u001b[0m \u001b[0mexclude\u001b[0m\u001b[0;34m=\u001b[0m\u001b[0;32mNone\u001b[0m\u001b[0;34m)\u001b[0m\u001b[0;34m:\u001b[0m\u001b[0;34m\u001b[0m\u001b[0;34m\u001b[0m\u001b[0m\n",
      "\u001b[0;32m/opt/conda/lib/python3.7/site-packages/pandas/core/computation/eval.py\u001b[0m in \u001b[0;36meval\u001b[0;34m(expr, parser, engine, truediv, local_dict, global_dict, resolvers, level, target, inplace)\u001b[0m\n\u001b[1;32m    320\u001b[0m         )\n\u001b[1;32m    321\u001b[0m \u001b[0;34m\u001b[0m\u001b[0m\n\u001b[0;32m--> 322\u001b[0;31m         \u001b[0mparsed_expr\u001b[0m \u001b[0;34m=\u001b[0m \u001b[0mExpr\u001b[0m\u001b[0;34m(\u001b[0m\u001b[0mexpr\u001b[0m\u001b[0;34m,\u001b[0m \u001b[0mengine\u001b[0m\u001b[0;34m=\u001b[0m\u001b[0mengine\u001b[0m\u001b[0;34m,\u001b[0m \u001b[0mparser\u001b[0m\u001b[0;34m=\u001b[0m\u001b[0mparser\u001b[0m\u001b[0;34m,\u001b[0m \u001b[0menv\u001b[0m\u001b[0;34m=\u001b[0m\u001b[0menv\u001b[0m\u001b[0;34m,\u001b[0m \u001b[0mtruediv\u001b[0m\u001b[0;34m=\u001b[0m\u001b[0mtruediv\u001b[0m\u001b[0;34m)\u001b[0m\u001b[0;34m\u001b[0m\u001b[0;34m\u001b[0m\u001b[0m\n\u001b[0m\u001b[1;32m    323\u001b[0m \u001b[0;34m\u001b[0m\u001b[0m\n\u001b[1;32m    324\u001b[0m         \u001b[0;31m# construct the engine and evaluate the parsed expression\u001b[0m\u001b[0;34m\u001b[0m\u001b[0;34m\u001b[0m\u001b[0;34m\u001b[0m\u001b[0m\n",
      "\u001b[0;32m/opt/conda/lib/python3.7/site-packages/pandas/core/computation/expr.py\u001b[0m in \u001b[0;36m__init__\u001b[0;34m(self, expr, engine, parser, env, truediv, level)\u001b[0m\n\u001b[1;32m    825\u001b[0m         \u001b[0mself\u001b[0m\u001b[0;34m.\u001b[0m\u001b[0menv\u001b[0m\u001b[0;34m.\u001b[0m\u001b[0mscope\u001b[0m\u001b[0;34m[\u001b[0m\u001b[0;34m\"truediv\"\u001b[0m\u001b[0;34m]\u001b[0m \u001b[0;34m=\u001b[0m \u001b[0mtruediv\u001b[0m\u001b[0;34m\u001b[0m\u001b[0;34m\u001b[0m\u001b[0m\n\u001b[1;32m    826\u001b[0m         \u001b[0mself\u001b[0m\u001b[0;34m.\u001b[0m\u001b[0m_visitor\u001b[0m \u001b[0;34m=\u001b[0m \u001b[0m_parsers\u001b[0m\u001b[0;34m[\u001b[0m\u001b[0mparser\u001b[0m\u001b[0;34m]\u001b[0m\u001b[0;34m(\u001b[0m\u001b[0mself\u001b[0m\u001b[0;34m.\u001b[0m\u001b[0menv\u001b[0m\u001b[0;34m,\u001b[0m \u001b[0mself\u001b[0m\u001b[0;34m.\u001b[0m\u001b[0mengine\u001b[0m\u001b[0;34m,\u001b[0m \u001b[0mself\u001b[0m\u001b[0;34m.\u001b[0m\u001b[0mparser\u001b[0m\u001b[0;34m)\u001b[0m\u001b[0;34m\u001b[0m\u001b[0;34m\u001b[0m\u001b[0m\n\u001b[0;32m--> 827\u001b[0;31m         \u001b[0mself\u001b[0m\u001b[0;34m.\u001b[0m\u001b[0mterms\u001b[0m \u001b[0;34m=\u001b[0m \u001b[0mself\u001b[0m\u001b[0;34m.\u001b[0m\u001b[0mparse\u001b[0m\u001b[0;34m(\u001b[0m\u001b[0;34m)\u001b[0m\u001b[0;34m\u001b[0m\u001b[0;34m\u001b[0m\u001b[0m\n\u001b[0m\u001b[1;32m    828\u001b[0m \u001b[0;34m\u001b[0m\u001b[0m\n\u001b[1;32m    829\u001b[0m     \u001b[0;34m@\u001b[0m\u001b[0mproperty\u001b[0m\u001b[0;34m\u001b[0m\u001b[0;34m\u001b[0m\u001b[0m\n",
      "\u001b[0;32m/opt/conda/lib/python3.7/site-packages/pandas/core/computation/expr.py\u001b[0m in \u001b[0;36mparse\u001b[0;34m(self)\u001b[0m\n\u001b[1;32m    842\u001b[0m     \u001b[0;32mdef\u001b[0m \u001b[0mparse\u001b[0m\u001b[0;34m(\u001b[0m\u001b[0mself\u001b[0m\u001b[0;34m)\u001b[0m\u001b[0;34m:\u001b[0m\u001b[0;34m\u001b[0m\u001b[0;34m\u001b[0m\u001b[0m\n\u001b[1;32m    843\u001b[0m         \u001b[0;34m\"\"\"Parse an expression\"\"\"\u001b[0m\u001b[0;34m\u001b[0m\u001b[0;34m\u001b[0m\u001b[0m\n\u001b[0;32m--> 844\u001b[0;31m         \u001b[0;32mreturn\u001b[0m \u001b[0mself\u001b[0m\u001b[0;34m.\u001b[0m\u001b[0m_visitor\u001b[0m\u001b[0;34m.\u001b[0m\u001b[0mvisit\u001b[0m\u001b[0;34m(\u001b[0m\u001b[0mself\u001b[0m\u001b[0;34m.\u001b[0m\u001b[0mexpr\u001b[0m\u001b[0;34m)\u001b[0m\u001b[0;34m\u001b[0m\u001b[0;34m\u001b[0m\u001b[0m\n\u001b[0m\u001b[1;32m    845\u001b[0m \u001b[0;34m\u001b[0m\u001b[0m\n\u001b[1;32m    846\u001b[0m     \u001b[0;34m@\u001b[0m\u001b[0mproperty\u001b[0m\u001b[0;34m\u001b[0m\u001b[0;34m\u001b[0m\u001b[0m\n",
      "\u001b[0;32m/opt/conda/lib/python3.7/site-packages/pandas/core/computation/expr.py\u001b[0m in \u001b[0;36mvisit\u001b[0;34m(self, node, **kwargs)\u001b[0m\n\u001b[1;32m    439\u001b[0m         \u001b[0mmethod\u001b[0m \u001b[0;34m=\u001b[0m \u001b[0;34m\"visit_\"\u001b[0m \u001b[0;34m+\u001b[0m \u001b[0mnode\u001b[0m\u001b[0;34m.\u001b[0m\u001b[0m__class__\u001b[0m\u001b[0;34m.\u001b[0m\u001b[0m__name__\u001b[0m\u001b[0;34m\u001b[0m\u001b[0;34m\u001b[0m\u001b[0m\n\u001b[1;32m    440\u001b[0m         \u001b[0mvisitor\u001b[0m \u001b[0;34m=\u001b[0m \u001b[0mgetattr\u001b[0m\u001b[0;34m(\u001b[0m\u001b[0mself\u001b[0m\u001b[0;34m,\u001b[0m \u001b[0mmethod\u001b[0m\u001b[0;34m)\u001b[0m\u001b[0;34m\u001b[0m\u001b[0;34m\u001b[0m\u001b[0m\n\u001b[0;32m--> 441\u001b[0;31m         \u001b[0;32mreturn\u001b[0m \u001b[0mvisitor\u001b[0m\u001b[0;34m(\u001b[0m\u001b[0mnode\u001b[0m\u001b[0;34m,\u001b[0m \u001b[0;34m**\u001b[0m\u001b[0mkwargs\u001b[0m\u001b[0;34m)\u001b[0m\u001b[0;34m\u001b[0m\u001b[0;34m\u001b[0m\u001b[0m\n\u001b[0m\u001b[1;32m    442\u001b[0m \u001b[0;34m\u001b[0m\u001b[0m\n\u001b[1;32m    443\u001b[0m     \u001b[0;32mdef\u001b[0m \u001b[0mvisit_Module\u001b[0m\u001b[0;34m(\u001b[0m\u001b[0mself\u001b[0m\u001b[0;34m,\u001b[0m \u001b[0mnode\u001b[0m\u001b[0;34m,\u001b[0m \u001b[0;34m**\u001b[0m\u001b[0mkwargs\u001b[0m\u001b[0;34m)\u001b[0m\u001b[0;34m:\u001b[0m\u001b[0;34m\u001b[0m\u001b[0;34m\u001b[0m\u001b[0m\n",
      "\u001b[0;32m/opt/conda/lib/python3.7/site-packages/pandas/core/computation/expr.py\u001b[0m in \u001b[0;36mvisit_Module\u001b[0;34m(self, node, **kwargs)\u001b[0m\n\u001b[1;32m    445\u001b[0m             \u001b[0;32mraise\u001b[0m \u001b[0mSyntaxError\u001b[0m\u001b[0;34m(\u001b[0m\u001b[0;34m\"only a single expression is allowed\"\u001b[0m\u001b[0;34m)\u001b[0m\u001b[0;34m\u001b[0m\u001b[0;34m\u001b[0m\u001b[0m\n\u001b[1;32m    446\u001b[0m         \u001b[0mexpr\u001b[0m \u001b[0;34m=\u001b[0m \u001b[0mnode\u001b[0m\u001b[0;34m.\u001b[0m\u001b[0mbody\u001b[0m\u001b[0;34m[\u001b[0m\u001b[0;36m0\u001b[0m\u001b[0;34m]\u001b[0m\u001b[0;34m\u001b[0m\u001b[0;34m\u001b[0m\u001b[0m\n\u001b[0;32m--> 447\u001b[0;31m         \u001b[0;32mreturn\u001b[0m \u001b[0mself\u001b[0m\u001b[0;34m.\u001b[0m\u001b[0mvisit\u001b[0m\u001b[0;34m(\u001b[0m\u001b[0mexpr\u001b[0m\u001b[0;34m,\u001b[0m \u001b[0;34m**\u001b[0m\u001b[0mkwargs\u001b[0m\u001b[0;34m)\u001b[0m\u001b[0;34m\u001b[0m\u001b[0;34m\u001b[0m\u001b[0m\n\u001b[0m\u001b[1;32m    448\u001b[0m \u001b[0;34m\u001b[0m\u001b[0m\n\u001b[1;32m    449\u001b[0m     \u001b[0;32mdef\u001b[0m \u001b[0mvisit_Expr\u001b[0m\u001b[0;34m(\u001b[0m\u001b[0mself\u001b[0m\u001b[0;34m,\u001b[0m \u001b[0mnode\u001b[0m\u001b[0;34m,\u001b[0m \u001b[0;34m**\u001b[0m\u001b[0mkwargs\u001b[0m\u001b[0;34m)\u001b[0m\u001b[0;34m:\u001b[0m\u001b[0;34m\u001b[0m\u001b[0;34m\u001b[0m\u001b[0m\n",
      "\u001b[0;32m/opt/conda/lib/python3.7/site-packages/pandas/core/computation/expr.py\u001b[0m in \u001b[0;36mvisit\u001b[0;34m(self, node, **kwargs)\u001b[0m\n\u001b[1;32m    439\u001b[0m         \u001b[0mmethod\u001b[0m \u001b[0;34m=\u001b[0m \u001b[0;34m\"visit_\"\u001b[0m \u001b[0;34m+\u001b[0m \u001b[0mnode\u001b[0m\u001b[0;34m.\u001b[0m\u001b[0m__class__\u001b[0m\u001b[0;34m.\u001b[0m\u001b[0m__name__\u001b[0m\u001b[0;34m\u001b[0m\u001b[0;34m\u001b[0m\u001b[0m\n\u001b[1;32m    440\u001b[0m         \u001b[0mvisitor\u001b[0m \u001b[0;34m=\u001b[0m \u001b[0mgetattr\u001b[0m\u001b[0;34m(\u001b[0m\u001b[0mself\u001b[0m\u001b[0;34m,\u001b[0m \u001b[0mmethod\u001b[0m\u001b[0;34m)\u001b[0m\u001b[0;34m\u001b[0m\u001b[0;34m\u001b[0m\u001b[0m\n\u001b[0;32m--> 441\u001b[0;31m         \u001b[0;32mreturn\u001b[0m \u001b[0mvisitor\u001b[0m\u001b[0;34m(\u001b[0m\u001b[0mnode\u001b[0m\u001b[0;34m,\u001b[0m \u001b[0;34m**\u001b[0m\u001b[0mkwargs\u001b[0m\u001b[0;34m)\u001b[0m\u001b[0;34m\u001b[0m\u001b[0;34m\u001b[0m\u001b[0m\n\u001b[0m\u001b[1;32m    442\u001b[0m \u001b[0;34m\u001b[0m\u001b[0m\n\u001b[1;32m    443\u001b[0m     \u001b[0;32mdef\u001b[0m \u001b[0mvisit_Module\u001b[0m\u001b[0;34m(\u001b[0m\u001b[0mself\u001b[0m\u001b[0;34m,\u001b[0m \u001b[0mnode\u001b[0m\u001b[0;34m,\u001b[0m \u001b[0;34m**\u001b[0m\u001b[0mkwargs\u001b[0m\u001b[0;34m)\u001b[0m\u001b[0;34m:\u001b[0m\u001b[0;34m\u001b[0m\u001b[0;34m\u001b[0m\u001b[0m\n",
      "\u001b[0;32m/opt/conda/lib/python3.7/site-packages/pandas/core/computation/expr.py\u001b[0m in \u001b[0;36mvisit_Expr\u001b[0;34m(self, node, **kwargs)\u001b[0m\n\u001b[1;32m    448\u001b[0m \u001b[0;34m\u001b[0m\u001b[0m\n\u001b[1;32m    449\u001b[0m     \u001b[0;32mdef\u001b[0m \u001b[0mvisit_Expr\u001b[0m\u001b[0;34m(\u001b[0m\u001b[0mself\u001b[0m\u001b[0;34m,\u001b[0m \u001b[0mnode\u001b[0m\u001b[0;34m,\u001b[0m \u001b[0;34m**\u001b[0m\u001b[0mkwargs\u001b[0m\u001b[0;34m)\u001b[0m\u001b[0;34m:\u001b[0m\u001b[0;34m\u001b[0m\u001b[0;34m\u001b[0m\u001b[0m\n\u001b[0;32m--> 450\u001b[0;31m         \u001b[0;32mreturn\u001b[0m \u001b[0mself\u001b[0m\u001b[0;34m.\u001b[0m\u001b[0mvisit\u001b[0m\u001b[0;34m(\u001b[0m\u001b[0mnode\u001b[0m\u001b[0;34m.\u001b[0m\u001b[0mvalue\u001b[0m\u001b[0;34m,\u001b[0m \u001b[0;34m**\u001b[0m\u001b[0mkwargs\u001b[0m\u001b[0;34m)\u001b[0m\u001b[0;34m\u001b[0m\u001b[0;34m\u001b[0m\u001b[0m\n\u001b[0m\u001b[1;32m    451\u001b[0m \u001b[0;34m\u001b[0m\u001b[0m\n\u001b[1;32m    452\u001b[0m     \u001b[0;32mdef\u001b[0m \u001b[0m_rewrite_membership_op\u001b[0m\u001b[0;34m(\u001b[0m\u001b[0mself\u001b[0m\u001b[0;34m,\u001b[0m \u001b[0mnode\u001b[0m\u001b[0;34m,\u001b[0m \u001b[0mleft\u001b[0m\u001b[0;34m,\u001b[0m \u001b[0mright\u001b[0m\u001b[0;34m)\u001b[0m\u001b[0;34m:\u001b[0m\u001b[0;34m\u001b[0m\u001b[0;34m\u001b[0m\u001b[0m\n",
      "\u001b[0;32m/opt/conda/lib/python3.7/site-packages/pandas/core/computation/expr.py\u001b[0m in \u001b[0;36mvisit\u001b[0;34m(self, node, **kwargs)\u001b[0m\n\u001b[1;32m    439\u001b[0m         \u001b[0mmethod\u001b[0m \u001b[0;34m=\u001b[0m \u001b[0;34m\"visit_\"\u001b[0m \u001b[0;34m+\u001b[0m \u001b[0mnode\u001b[0m\u001b[0;34m.\u001b[0m\u001b[0m__class__\u001b[0m\u001b[0;34m.\u001b[0m\u001b[0m__name__\u001b[0m\u001b[0;34m\u001b[0m\u001b[0;34m\u001b[0m\u001b[0m\n\u001b[1;32m    440\u001b[0m         \u001b[0mvisitor\u001b[0m \u001b[0;34m=\u001b[0m \u001b[0mgetattr\u001b[0m\u001b[0;34m(\u001b[0m\u001b[0mself\u001b[0m\u001b[0;34m,\u001b[0m \u001b[0mmethod\u001b[0m\u001b[0;34m)\u001b[0m\u001b[0;34m\u001b[0m\u001b[0;34m\u001b[0m\u001b[0m\n\u001b[0;32m--> 441\u001b[0;31m         \u001b[0;32mreturn\u001b[0m \u001b[0mvisitor\u001b[0m\u001b[0;34m(\u001b[0m\u001b[0mnode\u001b[0m\u001b[0;34m,\u001b[0m \u001b[0;34m**\u001b[0m\u001b[0mkwargs\u001b[0m\u001b[0;34m)\u001b[0m\u001b[0;34m\u001b[0m\u001b[0;34m\u001b[0m\u001b[0m\n\u001b[0m\u001b[1;32m    442\u001b[0m \u001b[0;34m\u001b[0m\u001b[0m\n\u001b[1;32m    443\u001b[0m     \u001b[0;32mdef\u001b[0m \u001b[0mvisit_Module\u001b[0m\u001b[0;34m(\u001b[0m\u001b[0mself\u001b[0m\u001b[0;34m,\u001b[0m \u001b[0mnode\u001b[0m\u001b[0;34m,\u001b[0m \u001b[0;34m**\u001b[0m\u001b[0mkwargs\u001b[0m\u001b[0;34m)\u001b[0m\u001b[0;34m:\u001b[0m\u001b[0;34m\u001b[0m\u001b[0;34m\u001b[0m\u001b[0m\n",
      "\u001b[0;32m/opt/conda/lib/python3.7/site-packages/pandas/core/computation/expr.py\u001b[0m in \u001b[0;36mvisit_Compare\u001b[0;34m(self, node, **kwargs)\u001b[0m\n\u001b[1;32m    742\u001b[0m             \u001b[0mop\u001b[0m \u001b[0;34m=\u001b[0m \u001b[0mself\u001b[0m\u001b[0;34m.\u001b[0m\u001b[0mtranslate_In\u001b[0m\u001b[0;34m(\u001b[0m\u001b[0mops\u001b[0m\u001b[0;34m[\u001b[0m\u001b[0;36m0\u001b[0m\u001b[0;34m]\u001b[0m\u001b[0;34m)\u001b[0m\u001b[0;34m\u001b[0m\u001b[0;34m\u001b[0m\u001b[0m\n\u001b[1;32m    743\u001b[0m             \u001b[0mbinop\u001b[0m \u001b[0;34m=\u001b[0m \u001b[0mast\u001b[0m\u001b[0;34m.\u001b[0m\u001b[0mBinOp\u001b[0m\u001b[0;34m(\u001b[0m\u001b[0mop\u001b[0m\u001b[0;34m=\u001b[0m\u001b[0mop\u001b[0m\u001b[0;34m,\u001b[0m \u001b[0mleft\u001b[0m\u001b[0;34m=\u001b[0m\u001b[0mnode\u001b[0m\u001b[0;34m.\u001b[0m\u001b[0mleft\u001b[0m\u001b[0;34m,\u001b[0m \u001b[0mright\u001b[0m\u001b[0;34m=\u001b[0m\u001b[0mcomps\u001b[0m\u001b[0;34m[\u001b[0m\u001b[0;36m0\u001b[0m\u001b[0;34m]\u001b[0m\u001b[0;34m)\u001b[0m\u001b[0;34m\u001b[0m\u001b[0;34m\u001b[0m\u001b[0m\n\u001b[0;32m--> 744\u001b[0;31m             \u001b[0;32mreturn\u001b[0m \u001b[0mself\u001b[0m\u001b[0;34m.\u001b[0m\u001b[0mvisit\u001b[0m\u001b[0;34m(\u001b[0m\u001b[0mbinop\u001b[0m\u001b[0;34m)\u001b[0m\u001b[0;34m\u001b[0m\u001b[0;34m\u001b[0m\u001b[0m\n\u001b[0m\u001b[1;32m    745\u001b[0m \u001b[0;34m\u001b[0m\u001b[0m\n\u001b[1;32m    746\u001b[0m         \u001b[0;31m# recursive case: we have a chained comparison, a CMP b CMP c, etc.\u001b[0m\u001b[0;34m\u001b[0m\u001b[0;34m\u001b[0m\u001b[0;34m\u001b[0m\u001b[0m\n",
      "\u001b[0;32m/opt/conda/lib/python3.7/site-packages/pandas/core/computation/expr.py\u001b[0m in \u001b[0;36mvisit\u001b[0;34m(self, node, **kwargs)\u001b[0m\n\u001b[1;32m    439\u001b[0m         \u001b[0mmethod\u001b[0m \u001b[0;34m=\u001b[0m \u001b[0;34m\"visit_\"\u001b[0m \u001b[0;34m+\u001b[0m \u001b[0mnode\u001b[0m\u001b[0;34m.\u001b[0m\u001b[0m__class__\u001b[0m\u001b[0;34m.\u001b[0m\u001b[0m__name__\u001b[0m\u001b[0;34m\u001b[0m\u001b[0;34m\u001b[0m\u001b[0m\n\u001b[1;32m    440\u001b[0m         \u001b[0mvisitor\u001b[0m \u001b[0;34m=\u001b[0m \u001b[0mgetattr\u001b[0m\u001b[0;34m(\u001b[0m\u001b[0mself\u001b[0m\u001b[0;34m,\u001b[0m \u001b[0mmethod\u001b[0m\u001b[0;34m)\u001b[0m\u001b[0;34m\u001b[0m\u001b[0;34m\u001b[0m\u001b[0m\n\u001b[0;32m--> 441\u001b[0;31m         \u001b[0;32mreturn\u001b[0m \u001b[0mvisitor\u001b[0m\u001b[0;34m(\u001b[0m\u001b[0mnode\u001b[0m\u001b[0;34m,\u001b[0m \u001b[0;34m**\u001b[0m\u001b[0mkwargs\u001b[0m\u001b[0;34m)\u001b[0m\u001b[0;34m\u001b[0m\u001b[0;34m\u001b[0m\u001b[0m\n\u001b[0m\u001b[1;32m    442\u001b[0m \u001b[0;34m\u001b[0m\u001b[0m\n\u001b[1;32m    443\u001b[0m     \u001b[0;32mdef\u001b[0m \u001b[0mvisit_Module\u001b[0m\u001b[0;34m(\u001b[0m\u001b[0mself\u001b[0m\u001b[0;34m,\u001b[0m \u001b[0mnode\u001b[0m\u001b[0;34m,\u001b[0m \u001b[0;34m**\u001b[0m\u001b[0mkwargs\u001b[0m\u001b[0;34m)\u001b[0m\u001b[0;34m:\u001b[0m\u001b[0;34m\u001b[0m\u001b[0;34m\u001b[0m\u001b[0m\n",
      "\u001b[0;32m/opt/conda/lib/python3.7/site-packages/pandas/core/computation/expr.py\u001b[0m in \u001b[0;36mvisit_BinOp\u001b[0;34m(self, node, **kwargs)\u001b[0m\n\u001b[1;32m    561\u001b[0m \u001b[0;34m\u001b[0m\u001b[0m\n\u001b[1;32m    562\u001b[0m     \u001b[0;32mdef\u001b[0m \u001b[0mvisit_BinOp\u001b[0m\u001b[0;34m(\u001b[0m\u001b[0mself\u001b[0m\u001b[0;34m,\u001b[0m \u001b[0mnode\u001b[0m\u001b[0;34m,\u001b[0m \u001b[0;34m**\u001b[0m\u001b[0mkwargs\u001b[0m\u001b[0;34m)\u001b[0m\u001b[0;34m:\u001b[0m\u001b[0;34m\u001b[0m\u001b[0;34m\u001b[0m\u001b[0m\n\u001b[0;32m--> 563\u001b[0;31m         \u001b[0mop\u001b[0m\u001b[0;34m,\u001b[0m \u001b[0mop_class\u001b[0m\u001b[0;34m,\u001b[0m \u001b[0mleft\u001b[0m\u001b[0;34m,\u001b[0m \u001b[0mright\u001b[0m \u001b[0;34m=\u001b[0m \u001b[0mself\u001b[0m\u001b[0;34m.\u001b[0m\u001b[0m_maybe_transform_eq_ne\u001b[0m\u001b[0;34m(\u001b[0m\u001b[0mnode\u001b[0m\u001b[0;34m)\u001b[0m\u001b[0;34m\u001b[0m\u001b[0;34m\u001b[0m\u001b[0m\n\u001b[0m\u001b[1;32m    564\u001b[0m         \u001b[0mleft\u001b[0m\u001b[0;34m,\u001b[0m \u001b[0mright\u001b[0m \u001b[0;34m=\u001b[0m \u001b[0mself\u001b[0m\u001b[0;34m.\u001b[0m\u001b[0m_maybe_downcast_constants\u001b[0m\u001b[0;34m(\u001b[0m\u001b[0mleft\u001b[0m\u001b[0;34m,\u001b[0m \u001b[0mright\u001b[0m\u001b[0;34m)\u001b[0m\u001b[0;34m\u001b[0m\u001b[0;34m\u001b[0m\u001b[0m\n\u001b[1;32m    565\u001b[0m         \u001b[0;32mreturn\u001b[0m \u001b[0mself\u001b[0m\u001b[0;34m.\u001b[0m\u001b[0m_maybe_evaluate_binop\u001b[0m\u001b[0;34m(\u001b[0m\u001b[0mop\u001b[0m\u001b[0;34m,\u001b[0m \u001b[0mop_class\u001b[0m\u001b[0;34m,\u001b[0m \u001b[0mleft\u001b[0m\u001b[0;34m,\u001b[0m \u001b[0mright\u001b[0m\u001b[0;34m)\u001b[0m\u001b[0;34m\u001b[0m\u001b[0;34m\u001b[0m\u001b[0m\n",
      "\u001b[0;32m/opt/conda/lib/python3.7/site-packages/pandas/core/computation/expr.py\u001b[0m in \u001b[0;36m_maybe_transform_eq_ne\u001b[0;34m(self, node, left, right)\u001b[0m\n\u001b[1;32m    480\u001b[0m     \u001b[0;32mdef\u001b[0m \u001b[0m_maybe_transform_eq_ne\u001b[0m\u001b[0;34m(\u001b[0m\u001b[0mself\u001b[0m\u001b[0;34m,\u001b[0m \u001b[0mnode\u001b[0m\u001b[0;34m,\u001b[0m \u001b[0mleft\u001b[0m\u001b[0;34m=\u001b[0m\u001b[0;32mNone\u001b[0m\u001b[0;34m,\u001b[0m \u001b[0mright\u001b[0m\u001b[0;34m=\u001b[0m\u001b[0;32mNone\u001b[0m\u001b[0;34m)\u001b[0m\u001b[0;34m:\u001b[0m\u001b[0;34m\u001b[0m\u001b[0;34m\u001b[0m\u001b[0m\n\u001b[1;32m    481\u001b[0m         \u001b[0;32mif\u001b[0m \u001b[0mleft\u001b[0m \u001b[0;32mis\u001b[0m \u001b[0;32mNone\u001b[0m\u001b[0;34m:\u001b[0m\u001b[0;34m\u001b[0m\u001b[0;34m\u001b[0m\u001b[0m\n\u001b[0;32m--> 482\u001b[0;31m             \u001b[0mleft\u001b[0m \u001b[0;34m=\u001b[0m \u001b[0mself\u001b[0m\u001b[0;34m.\u001b[0m\u001b[0mvisit\u001b[0m\u001b[0;34m(\u001b[0m\u001b[0mnode\u001b[0m\u001b[0;34m.\u001b[0m\u001b[0mleft\u001b[0m\u001b[0;34m,\u001b[0m \u001b[0mside\u001b[0m\u001b[0;34m=\u001b[0m\u001b[0;34m\"left\"\u001b[0m\u001b[0;34m)\u001b[0m\u001b[0;34m\u001b[0m\u001b[0;34m\u001b[0m\u001b[0m\n\u001b[0m\u001b[1;32m    483\u001b[0m         \u001b[0;32mif\u001b[0m \u001b[0mright\u001b[0m \u001b[0;32mis\u001b[0m \u001b[0;32mNone\u001b[0m\u001b[0;34m:\u001b[0m\u001b[0;34m\u001b[0m\u001b[0;34m\u001b[0m\u001b[0m\n\u001b[1;32m    484\u001b[0m             \u001b[0mright\u001b[0m \u001b[0;34m=\u001b[0m \u001b[0mself\u001b[0m\u001b[0;34m.\u001b[0m\u001b[0mvisit\u001b[0m\u001b[0;34m(\u001b[0m\u001b[0mnode\u001b[0m\u001b[0;34m.\u001b[0m\u001b[0mright\u001b[0m\u001b[0;34m,\u001b[0m \u001b[0mside\u001b[0m\u001b[0;34m=\u001b[0m\u001b[0;34m\"right\"\u001b[0m\u001b[0;34m)\u001b[0m\u001b[0;34m\u001b[0m\u001b[0;34m\u001b[0m\u001b[0m\n",
      "\u001b[0;32m/opt/conda/lib/python3.7/site-packages/pandas/core/computation/expr.py\u001b[0m in \u001b[0;36mvisit\u001b[0;34m(self, node, **kwargs)\u001b[0m\n\u001b[1;32m    439\u001b[0m         \u001b[0mmethod\u001b[0m \u001b[0;34m=\u001b[0m \u001b[0;34m\"visit_\"\u001b[0m \u001b[0;34m+\u001b[0m \u001b[0mnode\u001b[0m\u001b[0;34m.\u001b[0m\u001b[0m__class__\u001b[0m\u001b[0;34m.\u001b[0m\u001b[0m__name__\u001b[0m\u001b[0;34m\u001b[0m\u001b[0;34m\u001b[0m\u001b[0m\n\u001b[1;32m    440\u001b[0m         \u001b[0mvisitor\u001b[0m \u001b[0;34m=\u001b[0m \u001b[0mgetattr\u001b[0m\u001b[0;34m(\u001b[0m\u001b[0mself\u001b[0m\u001b[0;34m,\u001b[0m \u001b[0mmethod\u001b[0m\u001b[0;34m)\u001b[0m\u001b[0;34m\u001b[0m\u001b[0;34m\u001b[0m\u001b[0m\n\u001b[0;32m--> 441\u001b[0;31m         \u001b[0;32mreturn\u001b[0m \u001b[0mvisitor\u001b[0m\u001b[0;34m(\u001b[0m\u001b[0mnode\u001b[0m\u001b[0;34m,\u001b[0m \u001b[0;34m**\u001b[0m\u001b[0mkwargs\u001b[0m\u001b[0;34m)\u001b[0m\u001b[0;34m\u001b[0m\u001b[0;34m\u001b[0m\u001b[0m\n\u001b[0m\u001b[1;32m    442\u001b[0m \u001b[0;34m\u001b[0m\u001b[0m\n\u001b[1;32m    443\u001b[0m     \u001b[0;32mdef\u001b[0m \u001b[0mvisit_Module\u001b[0m\u001b[0;34m(\u001b[0m\u001b[0mself\u001b[0m\u001b[0;34m,\u001b[0m \u001b[0mnode\u001b[0m\u001b[0;34m,\u001b[0m \u001b[0;34m**\u001b[0m\u001b[0mkwargs\u001b[0m\u001b[0;34m)\u001b[0m\u001b[0;34m:\u001b[0m\u001b[0;34m\u001b[0m\u001b[0;34m\u001b[0m\u001b[0m\n",
      "\u001b[0;32m/opt/conda/lib/python3.7/site-packages/pandas/core/computation/expr.py\u001b[0m in \u001b[0;36mvisit_Name\u001b[0;34m(self, node, **kwargs)\u001b[0m\n\u001b[1;32m    575\u001b[0m \u001b[0;34m\u001b[0m\u001b[0m\n\u001b[1;32m    576\u001b[0m     \u001b[0;32mdef\u001b[0m \u001b[0mvisit_Name\u001b[0m\u001b[0;34m(\u001b[0m\u001b[0mself\u001b[0m\u001b[0;34m,\u001b[0m \u001b[0mnode\u001b[0m\u001b[0;34m,\u001b[0m \u001b[0;34m**\u001b[0m\u001b[0mkwargs\u001b[0m\u001b[0;34m)\u001b[0m\u001b[0;34m:\u001b[0m\u001b[0;34m\u001b[0m\u001b[0;34m\u001b[0m\u001b[0m\n\u001b[0;32m--> 577\u001b[0;31m         \u001b[0;32mreturn\u001b[0m \u001b[0mself\u001b[0m\u001b[0;34m.\u001b[0m\u001b[0mterm_type\u001b[0m\u001b[0;34m(\u001b[0m\u001b[0mnode\u001b[0m\u001b[0;34m.\u001b[0m\u001b[0mid\u001b[0m\u001b[0;34m,\u001b[0m \u001b[0mself\u001b[0m\u001b[0;34m.\u001b[0m\u001b[0menv\u001b[0m\u001b[0;34m,\u001b[0m \u001b[0;34m**\u001b[0m\u001b[0mkwargs\u001b[0m\u001b[0;34m)\u001b[0m\u001b[0;34m\u001b[0m\u001b[0;34m\u001b[0m\u001b[0m\n\u001b[0m\u001b[1;32m    578\u001b[0m \u001b[0;34m\u001b[0m\u001b[0m\n\u001b[1;32m    579\u001b[0m     \u001b[0;32mdef\u001b[0m \u001b[0mvisit_NameConstant\u001b[0m\u001b[0;34m(\u001b[0m\u001b[0mself\u001b[0m\u001b[0;34m,\u001b[0m \u001b[0mnode\u001b[0m\u001b[0;34m,\u001b[0m \u001b[0;34m**\u001b[0m\u001b[0mkwargs\u001b[0m\u001b[0;34m)\u001b[0m\u001b[0;34m:\u001b[0m\u001b[0;34m\u001b[0m\u001b[0;34m\u001b[0m\u001b[0m\n",
      "\u001b[0;32m/opt/conda/lib/python3.7/site-packages/pandas/core/computation/ops.py\u001b[0m in \u001b[0;36m__init__\u001b[0;34m(self, name, env, side, encoding)\u001b[0m\n\u001b[1;32m     76\u001b[0m         \u001b[0mtname\u001b[0m \u001b[0;34m=\u001b[0m \u001b[0mstr\u001b[0m\u001b[0;34m(\u001b[0m\u001b[0mname\u001b[0m\u001b[0;34m)\u001b[0m\u001b[0;34m\u001b[0m\u001b[0;34m\u001b[0m\u001b[0m\n\u001b[1;32m     77\u001b[0m         \u001b[0mself\u001b[0m\u001b[0;34m.\u001b[0m\u001b[0mis_local\u001b[0m \u001b[0;34m=\u001b[0m \u001b[0mtname\u001b[0m\u001b[0;34m.\u001b[0m\u001b[0mstartswith\u001b[0m\u001b[0;34m(\u001b[0m\u001b[0m_LOCAL_TAG\u001b[0m\u001b[0;34m)\u001b[0m \u001b[0;32mor\u001b[0m \u001b[0mtname\u001b[0m \u001b[0;32min\u001b[0m \u001b[0m_DEFAULT_GLOBALS\u001b[0m\u001b[0;34m\u001b[0m\u001b[0;34m\u001b[0m\u001b[0m\n\u001b[0;32m---> 78\u001b[0;31m         \u001b[0mself\u001b[0m\u001b[0;34m.\u001b[0m\u001b[0m_value\u001b[0m \u001b[0;34m=\u001b[0m \u001b[0mself\u001b[0m\u001b[0;34m.\u001b[0m\u001b[0m_resolve_name\u001b[0m\u001b[0;34m(\u001b[0m\u001b[0;34m)\u001b[0m\u001b[0;34m\u001b[0m\u001b[0;34m\u001b[0m\u001b[0m\n\u001b[0m\u001b[1;32m     79\u001b[0m         \u001b[0mself\u001b[0m\u001b[0;34m.\u001b[0m\u001b[0mencoding\u001b[0m \u001b[0;34m=\u001b[0m \u001b[0mencoding\u001b[0m\u001b[0;34m\u001b[0m\u001b[0;34m\u001b[0m\u001b[0m\n\u001b[1;32m     80\u001b[0m \u001b[0;34m\u001b[0m\u001b[0m\n",
      "\u001b[0;32m/opt/conda/lib/python3.7/site-packages/pandas/core/computation/ops.py\u001b[0m in \u001b[0;36m_resolve_name\u001b[0;34m(self)\u001b[0m\n\u001b[1;32m     93\u001b[0m \u001b[0;34m\u001b[0m\u001b[0m\n\u001b[1;32m     94\u001b[0m     \u001b[0;32mdef\u001b[0m \u001b[0m_resolve_name\u001b[0m\u001b[0;34m(\u001b[0m\u001b[0mself\u001b[0m\u001b[0;34m)\u001b[0m\u001b[0;34m:\u001b[0m\u001b[0;34m\u001b[0m\u001b[0;34m\u001b[0m\u001b[0m\n\u001b[0;32m---> 95\u001b[0;31m         \u001b[0mres\u001b[0m \u001b[0;34m=\u001b[0m \u001b[0mself\u001b[0m\u001b[0;34m.\u001b[0m\u001b[0menv\u001b[0m\u001b[0;34m.\u001b[0m\u001b[0mresolve\u001b[0m\u001b[0;34m(\u001b[0m\u001b[0mself\u001b[0m\u001b[0;34m.\u001b[0m\u001b[0mlocal_name\u001b[0m\u001b[0;34m,\u001b[0m \u001b[0mis_local\u001b[0m\u001b[0;34m=\u001b[0m\u001b[0mself\u001b[0m\u001b[0;34m.\u001b[0m\u001b[0mis_local\u001b[0m\u001b[0;34m)\u001b[0m\u001b[0;34m\u001b[0m\u001b[0;34m\u001b[0m\u001b[0m\n\u001b[0m\u001b[1;32m     96\u001b[0m         \u001b[0mself\u001b[0m\u001b[0;34m.\u001b[0m\u001b[0mupdate\u001b[0m\u001b[0;34m(\u001b[0m\u001b[0mres\u001b[0m\u001b[0;34m)\u001b[0m\u001b[0;34m\u001b[0m\u001b[0;34m\u001b[0m\u001b[0m\n\u001b[1;32m     97\u001b[0m \u001b[0;34m\u001b[0m\u001b[0m\n",
      "\u001b[0;32m/opt/conda/lib/python3.7/site-packages/pandas/core/computation/scope.py\u001b[0m in \u001b[0;36mresolve\u001b[0;34m(self, key, is_local)\u001b[0m\n\u001b[1;32m    199\u001b[0m                 \u001b[0;32mreturn\u001b[0m \u001b[0mself\u001b[0m\u001b[0;34m.\u001b[0m\u001b[0mtemps\u001b[0m\u001b[0;34m[\u001b[0m\u001b[0mkey\u001b[0m\u001b[0;34m]\u001b[0m\u001b[0;34m\u001b[0m\u001b[0;34m\u001b[0m\u001b[0m\n\u001b[1;32m    200\u001b[0m             \u001b[0;32mexcept\u001b[0m \u001b[0mKeyError\u001b[0m\u001b[0;34m:\u001b[0m\u001b[0;34m\u001b[0m\u001b[0;34m\u001b[0m\u001b[0m\n\u001b[0;32m--> 201\u001b[0;31m                 \u001b[0;32mraise\u001b[0m \u001b[0mcompu\u001b[0m\u001b[0;34m.\u001b[0m\u001b[0mops\u001b[0m\u001b[0;34m.\u001b[0m\u001b[0mUndefinedVariableError\u001b[0m\u001b[0;34m(\u001b[0m\u001b[0mkey\u001b[0m\u001b[0;34m,\u001b[0m \u001b[0mis_local\u001b[0m\u001b[0;34m)\u001b[0m\u001b[0;34m\u001b[0m\u001b[0;34m\u001b[0m\u001b[0m\n\u001b[0m\u001b[1;32m    202\u001b[0m \u001b[0;34m\u001b[0m\u001b[0m\n\u001b[1;32m    203\u001b[0m     \u001b[0;32mdef\u001b[0m \u001b[0mswapkey\u001b[0m\u001b[0;34m(\u001b[0m\u001b[0mself\u001b[0m\u001b[0;34m,\u001b[0m \u001b[0mold_key\u001b[0m\u001b[0;34m,\u001b[0m \u001b[0mnew_key\u001b[0m\u001b[0;34m,\u001b[0m \u001b[0mnew_value\u001b[0m\u001b[0;34m=\u001b[0m\u001b[0;32mNone\u001b[0m\u001b[0;34m)\u001b[0m\u001b[0;34m:\u001b[0m\u001b[0;34m\u001b[0m\u001b[0;34m\u001b[0m\u001b[0m\n",
      "\u001b[0;31mUndefinedVariableError\u001b[0m: name 'tariff' is not defined"
     ]
    }
   ],
   "source": [
    "#Разделеим статистику пользователей по тарифам\n",
    "tariff_ultra = statistics_table.query('tariff == \"ultra\"')\n",
    "tariff_smart = statistics_table.query('tariff == \"smart\"')\n",
    "#Рассчитаем среднее значение для звонков(использованные минуты разговора),сообщений,использованного траффика\n",
    "total_duration_mean_1 = tariff_ultra['total_duration'].mean()  #  ср.значение по звонкам\n",
    "total_duration_mean_2 = tariff_smart['total_duration'].mean()\n",
    "print('ср.значение по звонкам : ',total_duration_mean_1,total_duration_mean_2)\n",
    "total_traffic_mean_1 = tariff_ultra['total_traffic'].mean()   # ср.значение по использованному траффику\n",
    "total_traffic_mean_2 = tariff_smart['total_traffic'].mean()\n",
    "print('ср.значение по использованному траффику(Гб) : ',total_traffic_mean_1,total_traffic_mean_2)\n",
    "messages_mean_1 = tariff_ultra['messages_count'].mean()      # ср.значение по сообщениям\n",
    "messages_mean_2 = tariff_smart['messages_count'].mean() \n",
    "print('ср.значение по сообщениям : ',messages_mean_1,messages_mean_2)\n",
    "#Отобразим эти данные на графиках \n",
    "statistics_table.pivot_table(index = 'month', columns = 'tariff', values = 'total_duration', aggfunc = 'mean').plot()\n",
    "plt.title('Среднее значение статистики пользователей по тарифам')\n",
    "plt.ylabel('Длительность разговоров (мин)')\n",
    "statistics_table.pivot_table(index = 'month', columns = 'tariff', values = 'messages_count', aggfunc = 'mean').plot()\n",
    "plt.title('Среднее значение статистики пользователей по тарифам')\n",
    "plt.ylabel('Кол-во сообщений (шт.)')\n",
    "statistics_table.pivot_table(index = 'month', columns = 'tariff', values = 'total_traffic', aggfunc = 'mean').plot()\n",
    "plt.title('Среднее значение статистики пользователей по тарифам')\n",
    "plt.ylabel('Использованный интернет траффик (Гб)')\n",
    "#Рассчитаем дисперсии для звонков(использованные минуты разговора),сообщений,использованного траффика\n",
    "total_duration_var_1 = np.var(tariff_ultra['total_duration'],ddof=1)\n",
    "total_duration_var_2 = np.var(tariff_smart['total_duration'],ddof=1)\n",
    "print('Дисперсия по звонкам : ',total_duration_var_1,total_duration_var_2)\n",
    "total_traffic_var_1 = np.var(tariff_ultra['total_traffic'],ddof=1)\n",
    "total_traffic_var_2 = np.var(tariff_smart['total_traffic'],ddof=1)\n",
    "print('Дисперсия по использованному траффику',total_traffic_var_1,total_traffic_var_2)\n",
    "messages_var_1 = np.var(tariff_ultra['messages_count'],ddof=1)\n",
    "messages_var_2 = np.var(tariff_smart['messages_count'],ddof=1)\n",
    "print('Дисперсия по сообщениям : ',messages_var_1,messages_var_2)\n",
    "#Рассчитаем стандартное отклонение для звонков(использованные минуты разговора),сообщений,использованного траффика\n",
    "total_duration_std_1 = np.std(tariff_ultra['total_duration'],ddof=1)\n",
    "total_duration_std_2 = np.std(tariff_smart['total_duration'],ddof=1)\n",
    "print('Среднее отклонение составляет : ',total_duration_std_1,total_duration_std_2)\n",
    "messages_std_1 = np.std(tariff_ultra['messages_count'],ddof=1)\n",
    "messages_std_2 = np.std(tariff_smart['messages_count'],ddof=1)\n",
    "print('Среднее отклонение составляет : ',messages_std_1,messages_std_2)\n",
    "total_traffic_std_1 = np.std(tariff_ultra['total_traffic'],ddof=1)\n",
    "total_traffic_std_2 = np.std(tariff_smart['total_traffic'],ddof=1)\n",
    "print('Среднее отклонение составляет :',total_traffic_std_1,total_traffic_std_2)\n",
    "#Построим гистограммы распределения значений по тарифам\n",
    "plt.figure(figsize=(15,5))\n",
    "#Построим гистограммы распределения значений по звонкам\n",
    "plt.hist([tariff_ultra['total_duration'],tariff_smart['total_duration']],bins=25,range=(0,900))\n",
    "plt.title('Исходная выборка по минутам звонков')\n",
    "plt.xlabel('Потраченные минуты (мин.)')\n",
    "plt.show()\n",
    "#Построим гистограммы распределения значений по сообщениям\n",
    "plt.hist([tariff_ultra['messages_count'],tariff_smart['messages_count']],bins=15,range=(0,300))\n",
    "plt.title('Исходная выборка по сообщениям')\n",
    "plt.xlabel('Кол-во отправленных сообщений (шт.)')\n",
    "plt.show()\n",
    "#Построим гистограммы распределения значений по использованному интернет траффику\n",
    "plt.hist([tariff_ultra['total_traffic'],tariff_smart['total_traffic']],bins=10,range=(0,50))\n",
    "plt.title('Исходная выборка по интернет траффику')\n",
    "plt.xlabel('Использованный интернет траффик (Гб)')\n",
    "plt.show()"
   ]
  },
  {
   "cell_type": "markdown",
   "metadata": {},
   "source": [
    "Основываясь на полученных данных, можно с уверенностью сказать, что пользователи тарифа ultra гораздо больше разговаривают по телефону и отправляют сообщения, чем пользователи другого тарифа.Что касается интернет траффика,то они практически одинаково пользуются интернетом.Построив гистограммы по тарифам, можно сказать, что на них отражается явно не-нормальное распрделение значений(наверное в жизни так и должно быть), только на первой гистограмме (по минутам) что-то близкое к нормальному распределению есть в тарифе smart, во всех остальных случаях наблюдается скошенность в правую сторону."
   ]
  },
  {
   "cell_type": "markdown",
   "metadata": {},
   "source": [
    "## Формулирование и проверка гипотез"
   ]
  },
  {
   "cell_type": "code",
   "execution_count": null,
   "metadata": {},
   "outputs": [],
   "source": [
    "#Прежде чем приступать к формулированию гипотез,необходимо посчитать ср.выручку по тарифам\n",
    "ultra_profit = tariff_ultra['profit'].mean()\n",
    "print('Среднее значение выручки по тарифу \"Ультра\" составляет :',ultra_profit)\n",
    "smart_profit = tariff_smart['profit'].mean()\n",
    "print('Среднее значение выручки по тарифу \"Смарт\" составляет :',smart_profit)\n"
   ]
  },
  {
   "cell_type": "markdown",
   "metadata": {},
   "source": [
    "На основе полученных данных можно сделать вывод, что выручка потарифам отличается, вопрос в том, действительноэто так или же это просто шум(случайность), для того, чтобы проверить это проведем  двусторонний t-тест"
   ]
  },
  {
   "cell_type": "markdown",
   "metadata": {},
   "source": [
    "Сформулирем гипотезы, которые потом проверим\n",
    "Нулевая гипотеза (Н0) - Средняя выручка пользователей тарифов «Ультра» и «Смарт» одинаковые (=)\n",
    "Альтернативная гипотеза - Средняя выручка пользователей тарифа «Ультра» больше(>) средней выручки пользователей тарифа «Смарт»"
   ]
  },
  {
   "cell_type": "code",
   "execution_count": null,
   "metadata": {},
   "outputs": [],
   "source": [
    "#Сформулируем начальную гипотезу\n",
    "#средняя выручка пользователей тарифов «Ультра» и «Смарт» различаются(=) H0\n",
    "alpha = .05 # критический уровень статистической значимости( если p-value < alpha , то отвергнем гипотезу )\n",
    "\n",
    "results = st.ttest_ind(\n",
    "    tariff_ultra['profit'], \n",
    "    tariff_smart['profit'])\n",
    " \n",
    "print('p-значение: ', results.pvalue)\n",
    " \n",
    "if results.pvalue < alpha:\n",
    "    print(\"Отвергаем нулевую гипотезу\")\n",
    "else:\n",
    "    print(\"Не получилось отвергнуть нулевую гипотезу\") \n"
   ]
  },
  {
   "cell_type": "markdown",
   "metadata": {},
   "source": [
    "Проведя проверку гипотезу, мы увидили,что разница в выручке по тарифам(по тарифу \"Ультра\" больше,чем по тарифу \"Смарт\") есть и это не случайность."
   ]
  },
  {
   "cell_type": "code",
   "execution_count": null,
   "metadata": {},
   "outputs": [],
   "source": [
    "#Аналогично поступим и для жителей Москвы и других регионов\n",
    "moscow = statistics_table.query('city == \"Москва\"')\n",
    "no_moscow = statistics_table.query('city != \"Москва\"')\n",
    "#Прежде чем приступать к формулированию гипотез,необходимо посчитать ср.выручку по тарифам\n",
    "profit_moscow = moscow['profit'].mean()\n",
    "print('Среднее значение выручки по Москве\" составляет :',profit_moscow)\n",
    "profit_no_moscow = no_moscow['profit'].mean()\n",
    "print('Среднее значение выручки по другим регионам составляет :',profit_no_moscow)"
   ]
  },
  {
   "cell_type": "markdown",
   "metadata": {},
   "source": [
    "Сформулируем начальную гипотезу :\n",
    "Начальная гипотеза (Н0) - средняя выручка пользователей Москвы и других регионов равны (=)\n",
    "Альтернативная гипотеза - средняя выручка пользователей Москвы и других регионов различаются"
   ]
  },
  {
   "cell_type": "code",
   "execution_count": null,
   "metadata": {},
   "outputs": [],
   "source": [
    "#Сформулируем начальную гипотезу\n",
    "#средняя выручка пользователей Москвы и других регионов различаются(=) H0\n",
    "alpha = .05 # критический уровень статистической значимости( если p-value < alpha , то отвергнем гипотезу )\n",
    "\n",
    "results_2 = st.ttest_ind(\n",
    "    moscow['profit'], \n",
    "    no_moscow['profit'])\n",
    " \n",
    "print('p-значение: ', results_2.pvalue)\n",
    " \n",
    "if results_2.pvalue < alpha:\n",
    "    print(\"Отвергаем нулевую гипотезу\")\n",
    "else:\n",
    "    print(\"Не получилось отвергнуть нулевую гипотезу\") \n"
   ]
  },
  {
   "cell_type": "markdown",
   "metadata": {},
   "source": [
    "## ВЫВОД"
   ]
  },
  {
   "cell_type": "markdown",
   "metadata": {},
   "source": [
    "Получив данные в сыром виде, мы провели работу над ними(просмотрели используемые типы данных, проверили правильность заполнения таблиц, удалили лишние столбцы).После этого перешли к обработке данных(опираясь на грппу пользователь-месяц)(подсчет кол-ва минут потраченных пользователями,отправленных сообщенийи использованного интернет трафика).Далее была сформирована общая таблица(сводная таблица) со статистикой по всем пользователям , исползую эту общуютаблицу смогли посчитать общую доходность по пользователям. Основываясь на полученных данных, былсделан вывод, что пользователи тарифа ultra чаще общаются потелефону и отправляют сообщения,нежели пользователи другого тарифа,что касается трафика , потребляемого пользователями, то они получились примерно одинаковыми.\n",
    "Если компания хочет получить больше прибыли с пользователей, то ей необходимо распространить больше тариф smart, так как основываясь на проверке гипотез,получилось,что именно с этого тарифа компания получает больше прибыли."
   ]
  },
  {
   "cell_type": "markdown",
   "metadata": {},
   "source": [
    "## Чек-лист готовности проекта\n",
    "\n",
    "Поставьте 'x' в выполненных пунктах. Далее нажмите Shift+Enter."
   ]
  },
  {
   "cell_type": "markdown",
   "metadata": {},
   "source": [
    "- [x]  открыт файл\n",
    "- [x]  файлы изучены (выведены первые строки, метод info,shape,describe  и тд.)\n",
    "- [x]  определены пропущенные значения\n",
    "- [x]  есть пояснение, какие пропущенные значения обнаружены\n",
    "- [x]  есть пояснение, в каких столбцах изменены типы данных и почему\n",
    "- [x]  подсчитано количество сделанных звонков и израсходованных минут разговора по месяцам для каждого пользователя\n",
    "- [x]  подсчитано количество отправленных сообщений по месяцам для каждого пользователя\n",
    "- [x]  подсчитано объем израсходованного интернет-трафика по месяцам для каждого пользователя\n",
    "- [x]  найдите помесячную выручку с каждого пользователя \n",
    "- [x]  Опишите поведение клиентов оператора, исходя из выборки. Сколько минут разговора, сколько сообщений и какой объём интернет-трафика требуется пользователям каждого тарифа в месяц? Посчитайте среднее количество, дисперсию и стандартное отклонение. Постройте гистограммы. Опишите распределения \n",
    "- [x]  проверить гипотезы : средняя выручка пользователей тарифов «Ультра» и «Смарт» различаются;средняя выручка пользователей из Москвы отличается от выручки пользователей из других регионов\n",
    "- [x]  в каждом этапе есть выводы\n",
    "- [x]  есть общий вывод"
   ]
  },
  {
   "cell_type": "code",
   "execution_count": null,
   "metadata": {},
   "outputs": [],
   "source": []
  }
 ],
 "metadata": {
  "ExecuteTimeLog": [
   {
    "duration": 184,
    "start_time": "2022-01-21T06:24:16.369Z"
   },
   {
    "duration": 4,
    "start_time": "2022-01-21T06:45:04.990Z"
   },
   {
    "duration": 804,
    "start_time": "2022-01-24T03:33:01.251Z"
   },
   {
    "duration": 609,
    "start_time": "2022-01-24T03:35:59.652Z"
   },
   {
    "duration": 501,
    "start_time": "2022-01-24T03:36:13.953Z"
   },
   {
    "duration": 250,
    "start_time": "2022-01-24T03:37:36.949Z"
   },
   {
    "duration": 331,
    "start_time": "2022-01-24T03:42:07.294Z"
   },
   {
    "duration": 491,
    "start_time": "2022-01-24T03:43:38.778Z"
   },
   {
    "duration": 515,
    "start_time": "2022-01-24T03:46:25.738Z"
   },
   {
    "duration": 510,
    "start_time": "2022-01-24T03:47:55.993Z"
   },
   {
    "duration": 530,
    "start_time": "2022-01-24T03:50:35.697Z"
   },
   {
    "duration": 549,
    "start_time": "2022-01-24T03:54:08.270Z"
   },
   {
    "duration": 564,
    "start_time": "2022-01-24T03:54:33.992Z"
   },
   {
    "duration": 532,
    "start_time": "2022-01-24T03:56:48.081Z"
   },
   {
    "duration": 1686,
    "start_time": "2022-01-24T06:22:21.628Z"
   },
   {
    "duration": 630,
    "start_time": "2022-01-24T06:26:25.012Z"
   },
   {
    "duration": 371,
    "start_time": "2022-01-24T06:35:39.012Z"
   },
   {
    "duration": 23,
    "start_time": "2022-01-24T06:35:45.063Z"
   },
   {
    "duration": 22,
    "start_time": "2022-01-24T06:36:06.397Z"
   },
   {
    "duration": 352,
    "start_time": "2022-01-24T07:20:23.464Z"
   },
   {
    "duration": 283,
    "start_time": "2022-01-24T07:20:46.030Z"
   },
   {
    "duration": 1328,
    "start_time": "2022-01-24T07:21:05.790Z"
   },
   {
    "duration": 33,
    "start_time": "2022-01-24T07:21:07.120Z"
   },
   {
    "duration": 399,
    "start_time": "2022-01-24T07:24:19.083Z"
   },
   {
    "duration": 1413,
    "start_time": "2022-01-24T07:24:37.829Z"
   },
   {
    "duration": 35,
    "start_time": "2022-01-24T07:24:39.245Z"
   },
   {
    "duration": 27,
    "start_time": "2022-01-24T07:34:57.060Z"
   },
   {
    "duration": 8197,
    "start_time": "2022-01-24T07:38:00.191Z"
   },
   {
    "duration": 7437,
    "start_time": "2022-01-24T07:38:49.149Z"
   },
   {
    "duration": 29,
    "start_time": "2022-01-24T07:39:26.628Z"
   },
   {
    "duration": 299,
    "start_time": "2022-01-24T07:48:07.434Z"
   },
   {
    "duration": 83,
    "start_time": "2022-01-24T07:51:21.437Z"
   },
   {
    "duration": 98,
    "start_time": "2022-01-24T07:55:48.995Z"
   },
   {
    "duration": 767,
    "start_time": "2022-01-24T08:03:24.861Z"
   },
   {
    "duration": 191,
    "start_time": "2022-01-24T08:04:55.537Z"
   },
   {
    "duration": 735,
    "start_time": "2022-01-24T08:06:04.756Z"
   },
   {
    "duration": 810,
    "start_time": "2022-01-24T08:06:40.194Z"
   },
   {
    "duration": 825,
    "start_time": "2022-01-24T08:07:10.882Z"
   },
   {
    "duration": 762,
    "start_time": "2022-01-24T08:08:59.153Z"
   },
   {
    "duration": 1545,
    "start_time": "2022-01-24T08:09:11.532Z"
   },
   {
    "duration": 46,
    "start_time": "2022-01-24T08:09:13.081Z"
   },
   {
    "duration": 766,
    "start_time": "2022-01-24T08:09:13.130Z"
   },
   {
    "duration": 446,
    "start_time": "2022-01-24T08:13:33.625Z"
   },
   {
    "duration": 546,
    "start_time": "2022-01-24T08:15:26.697Z"
   },
   {
    "duration": 112,
    "start_time": "2022-01-24T08:16:28.536Z"
   },
   {
    "duration": 97,
    "start_time": "2022-01-24T08:17:32.929Z"
   },
   {
    "duration": 7806,
    "start_time": "2022-01-24T08:17:42.410Z"
   },
   {
    "duration": 695,
    "start_time": "2022-01-24T08:22:12.289Z"
   },
   {
    "duration": 87,
    "start_time": "2022-01-24T08:22:28.000Z"
   },
   {
    "duration": 130,
    "start_time": "2022-01-24T08:23:31.862Z"
   },
   {
    "duration": 77,
    "start_time": "2022-01-24T08:23:54.836Z"
   },
   {
    "duration": 79,
    "start_time": "2022-01-24T08:24:13.489Z"
   },
   {
    "duration": 10389,
    "start_time": "2022-01-24T08:58:54.864Z"
   },
   {
    "duration": 238,
    "start_time": "2022-01-24T09:37:19.350Z"
   },
   {
    "duration": 10118,
    "start_time": "2022-01-24T09:39:37.087Z"
   },
   {
    "duration": 188,
    "start_time": "2022-01-24T09:40:16.150Z"
   },
   {
    "duration": 1081,
    "start_time": "2022-01-25T06:45:48.029Z"
   },
   {
    "duration": 27,
    "start_time": "2022-01-25T06:45:49.113Z"
   },
   {
    "duration": 218,
    "start_time": "2022-01-25T06:45:49.142Z"
   },
   {
    "duration": 430,
    "start_time": "2022-01-25T06:59:06.388Z"
   },
   {
    "duration": 136,
    "start_time": "2022-01-25T07:06:21.649Z"
   },
   {
    "duration": 303,
    "start_time": "2022-01-25T07:07:11.265Z"
   },
   {
    "duration": 139,
    "start_time": "2022-01-25T07:07:41.339Z"
   },
   {
    "duration": 4637,
    "start_time": "2022-01-25T07:48:56.400Z"
   },
   {
    "duration": 290,
    "start_time": "2022-01-25T07:56:59.314Z"
   },
   {
    "duration": 568,
    "start_time": "2022-01-25T08:32:20.724Z"
   },
   {
    "duration": 330,
    "start_time": "2022-01-25T08:32:39.654Z"
   },
   {
    "duration": 148,
    "start_time": "2022-01-25T08:33:12.415Z"
   },
   {
    "duration": 289,
    "start_time": "2022-01-25T08:36:57.047Z"
   },
   {
    "duration": 165,
    "start_time": "2022-01-25T08:42:50.602Z"
   },
   {
    "duration": 154,
    "start_time": "2022-01-25T08:44:26.077Z"
   },
   {
    "duration": 177,
    "start_time": "2022-01-25T08:45:17.643Z"
   },
   {
    "duration": 164,
    "start_time": "2022-01-25T08:46:19.536Z"
   },
   {
    "duration": 156,
    "start_time": "2022-01-25T08:46:38.409Z"
   },
   {
    "duration": 156,
    "start_time": "2022-01-25T08:49:41.025Z"
   },
   {
    "duration": 331,
    "start_time": "2022-01-25T08:50:55.742Z"
   },
   {
    "duration": 313,
    "start_time": "2022-01-25T08:51:17.133Z"
   },
   {
    "duration": 155,
    "start_time": "2022-01-25T08:51:30.868Z"
   },
   {
    "duration": 152,
    "start_time": "2022-01-25T08:51:41.765Z"
   },
   {
    "duration": 167,
    "start_time": "2022-01-25T08:59:46.795Z"
   },
   {
    "duration": 160,
    "start_time": "2022-01-25T09:00:48.091Z"
   },
   {
    "duration": 151,
    "start_time": "2022-01-25T09:06:47.229Z"
   },
   {
    "duration": 163,
    "start_time": "2022-01-25T09:06:52.899Z"
   },
   {
    "duration": 1220,
    "start_time": "2022-01-25T09:07:32.077Z"
   },
   {
    "duration": 29,
    "start_time": "2022-01-25T09:07:33.299Z"
   },
   {
    "duration": 278,
    "start_time": "2022-01-25T09:07:33.331Z"
   },
   {
    "duration": 269,
    "start_time": "2022-01-25T09:11:35.717Z"
   },
   {
    "duration": 248,
    "start_time": "2022-01-25T09:11:41.718Z"
   },
   {
    "duration": 1097,
    "start_time": "2022-01-25T09:12:16.694Z"
   },
   {
    "duration": 28,
    "start_time": "2022-01-25T09:12:17.793Z"
   },
   {
    "duration": 338,
    "start_time": "2022-01-25T09:12:17.823Z"
   },
   {
    "duration": 4738,
    "start_time": "2022-01-25T09:12:44.665Z"
   },
   {
    "duration": 4526,
    "start_time": "2022-01-25T09:13:06.048Z"
   },
   {
    "duration": 178,
    "start_time": "2022-01-25T09:13:24.004Z"
   },
   {
    "duration": 157,
    "start_time": "2022-01-25T09:13:37.993Z"
   },
   {
    "duration": 167,
    "start_time": "2022-01-25T09:14:01.800Z"
   },
   {
    "duration": 1454,
    "start_time": "2022-01-26T07:10:13.068Z"
   },
   {
    "duration": 59,
    "start_time": "2022-01-26T07:10:14.525Z"
   },
   {
    "duration": 296,
    "start_time": "2022-01-26T07:10:14.587Z"
   },
   {
    "duration": 336,
    "start_time": "2022-01-26T07:11:29.306Z"
   },
   {
    "duration": 7418,
    "start_time": "2022-01-26T07:17:35.255Z"
   },
   {
    "duration": 7685,
    "start_time": "2022-01-26T07:18:10.413Z"
   },
   {
    "duration": 8163,
    "start_time": "2022-01-26T07:19:00.257Z"
   },
   {
    "duration": 364,
    "start_time": "2022-01-26T07:19:29.327Z"
   },
   {
    "duration": 691,
    "start_time": "2022-01-26T07:33:59.742Z"
   },
   {
    "duration": 22,
    "start_time": "2022-01-26T07:47:59.530Z"
   },
   {
    "duration": 36,
    "start_time": "2022-01-26T07:53:44.061Z"
   },
   {
    "duration": 282,
    "start_time": "2022-01-26T07:58:23.614Z"
   },
   {
    "duration": 27,
    "start_time": "2022-01-26T07:58:53.739Z"
   },
   {
    "duration": 27,
    "start_time": "2022-01-26T08:01:44.853Z"
   },
   {
    "duration": 37,
    "start_time": "2022-01-26T08:02:19.805Z"
   },
   {
    "duration": 34,
    "start_time": "2022-01-26T08:03:01.354Z"
   },
   {
    "duration": 35,
    "start_time": "2022-01-26T08:03:21.073Z"
   },
   {
    "duration": 322,
    "start_time": "2022-01-26T08:05:02.397Z"
   },
   {
    "duration": 35,
    "start_time": "2022-01-26T08:05:42.883Z"
   },
   {
    "duration": 297,
    "start_time": "2022-01-26T08:06:25.073Z"
   },
   {
    "duration": 28,
    "start_time": "2022-01-26T08:06:41.930Z"
   },
   {
    "duration": 30,
    "start_time": "2022-01-26T08:13:30.415Z"
   },
   {
    "duration": 21,
    "start_time": "2022-01-26T08:13:44.182Z"
   },
   {
    "duration": 1569,
    "start_time": "2022-01-26T08:14:03.063Z"
   },
   {
    "duration": 47,
    "start_time": "2022-01-26T08:14:04.635Z"
   },
   {
    "duration": 440,
    "start_time": "2022-01-26T08:14:04.685Z"
   },
   {
    "duration": 22,
    "start_time": "2022-01-26T08:14:05.127Z"
   },
   {
    "duration": 435,
    "start_time": "2022-01-26T09:02:10.139Z"
   },
   {
    "duration": 10460,
    "start_time": "2022-01-26T09:13:27.886Z"
   },
   {
    "duration": 329,
    "start_time": "2022-01-26T09:15:26.129Z"
   },
   {
    "duration": 97,
    "start_time": "2022-01-26T09:15:56.073Z"
   },
   {
    "duration": 97,
    "start_time": "2022-01-26T09:16:44.620Z"
   },
   {
    "duration": 1391,
    "start_time": "2022-01-26T09:17:26.380Z"
   },
   {
    "duration": 35,
    "start_time": "2022-01-26T09:17:27.774Z"
   },
   {
    "duration": 437,
    "start_time": "2022-01-26T09:17:27.811Z"
   },
   {
    "duration": 103,
    "start_time": "2022-01-26T09:17:28.251Z"
   },
   {
    "duration": 389,
    "start_time": "2022-01-26T09:31:06.319Z"
   },
   {
    "duration": 99,
    "start_time": "2022-01-26T09:32:07.523Z"
   },
   {
    "duration": 367,
    "start_time": "2022-01-26T09:33:51.896Z"
   },
   {
    "duration": 1134,
    "start_time": "2022-01-27T05:30:00.414Z"
   },
   {
    "duration": 27,
    "start_time": "2022-01-27T05:30:01.550Z"
   },
   {
    "duration": 331,
    "start_time": "2022-01-27T05:30:01.579Z"
   },
   {
    "duration": 301,
    "start_time": "2022-01-27T05:30:01.912Z"
   },
   {
    "duration": 264,
    "start_time": "2022-01-27T05:31:10.418Z"
   },
   {
    "duration": 226,
    "start_time": "2022-01-27T05:32:26.346Z"
   },
   {
    "duration": 68,
    "start_time": "2022-01-27T05:32:44.887Z"
   },
   {
    "duration": 233,
    "start_time": "2022-01-27T05:47:18.006Z"
   },
   {
    "duration": 72,
    "start_time": "2022-01-27T05:47:50.441Z"
   },
   {
    "duration": 236,
    "start_time": "2022-01-27T05:51:16.675Z"
   },
   {
    "duration": 63,
    "start_time": "2022-01-27T06:04:34.410Z"
   },
   {
    "duration": 267,
    "start_time": "2022-01-27T06:04:56.693Z"
   },
   {
    "duration": 4578,
    "start_time": "2022-01-27T06:10:02.539Z"
   },
   {
    "duration": 242,
    "start_time": "2022-01-27T06:10:30.458Z"
   },
   {
    "duration": 245,
    "start_time": "2022-01-27T06:11:43.853Z"
   },
   {
    "duration": 240,
    "start_time": "2022-01-27T06:12:23.691Z"
   },
   {
    "duration": 61,
    "start_time": "2022-01-27T06:12:36.523Z"
   },
   {
    "duration": 64,
    "start_time": "2022-01-27T06:12:52.995Z"
   },
   {
    "duration": 61,
    "start_time": "2022-01-27T06:13:16.826Z"
   },
   {
    "duration": 58,
    "start_time": "2022-01-27T06:15:24.212Z"
   },
   {
    "duration": 61,
    "start_time": "2022-01-27T06:15:39.892Z"
   },
   {
    "duration": 191,
    "start_time": "2022-01-27T06:19:48.499Z"
   },
   {
    "duration": 244,
    "start_time": "2022-01-27T06:20:58.209Z"
   },
   {
    "duration": 60,
    "start_time": "2022-01-27T06:31:56.208Z"
   },
   {
    "duration": 18,
    "start_time": "2022-01-27T06:32:56.460Z"
   },
   {
    "duration": 29,
    "start_time": "2022-01-27T06:43:20.642Z"
   },
   {
    "duration": 64,
    "start_time": "2022-01-27T06:45:52.729Z"
   },
   {
    "duration": 145,
    "start_time": "2022-01-27T06:49:29.060Z"
   },
   {
    "duration": 92,
    "start_time": "2022-01-27T06:50:24.567Z"
   },
   {
    "duration": 68,
    "start_time": "2022-01-27T06:50:41.805Z"
   },
   {
    "duration": 131,
    "start_time": "2022-01-27T06:53:35.095Z"
   },
   {
    "duration": 66,
    "start_time": "2022-01-27T07:30:16.441Z"
   },
   {
    "duration": 81,
    "start_time": "2022-01-27T07:30:24.357Z"
   },
   {
    "duration": 75,
    "start_time": "2022-01-27T07:31:08.431Z"
   },
   {
    "duration": 77,
    "start_time": "2022-01-27T07:31:22.813Z"
   },
   {
    "duration": 80,
    "start_time": "2022-01-27T07:31:30.178Z"
   },
   {
    "duration": 78,
    "start_time": "2022-01-27T07:31:52.522Z"
   },
   {
    "duration": 234,
    "start_time": "2022-01-27T08:59:40.925Z"
   },
   {
    "duration": 219,
    "start_time": "2022-01-27T09:08:11.275Z"
   },
   {
    "duration": 77,
    "start_time": "2022-01-27T09:15:25.937Z"
   },
   {
    "duration": 207,
    "start_time": "2022-01-27T09:29:20.603Z"
   },
   {
    "duration": 799,
    "start_time": "2022-01-27T09:30:30.341Z"
   },
   {
    "duration": 64,
    "start_time": "2022-01-27T09:34:30.732Z"
   },
   {
    "duration": 2754,
    "start_time": "2022-01-27T09:44:09.268Z"
   },
   {
    "duration": 1413,
    "start_time": "2022-01-28T05:33:56.033Z"
   },
   {
    "duration": 40,
    "start_time": "2022-01-28T05:33:57.449Z"
   },
   {
    "duration": 448,
    "start_time": "2022-01-28T05:33:57.491Z"
   },
   {
    "duration": 4440,
    "start_time": "2022-01-28T05:33:57.941Z"
   },
   {
    "duration": 356,
    "start_time": "2022-01-28T05:36:44.033Z"
   },
   {
    "duration": 115,
    "start_time": "2022-01-28T05:40:28.143Z"
   },
   {
    "duration": 118,
    "start_time": "2022-01-28T05:41:25.992Z"
   },
   {
    "duration": 598,
    "start_time": "2022-01-28T05:43:51.445Z"
   },
   {
    "duration": 124,
    "start_time": "2022-01-28T05:45:05.260Z"
   },
   {
    "duration": 115,
    "start_time": "2022-01-28T05:45:35.883Z"
   },
   {
    "duration": 110,
    "start_time": "2022-01-28T05:46:02.739Z"
   },
   {
    "duration": 557,
    "start_time": "2022-01-28T05:47:23.593Z"
   },
   {
    "duration": 152,
    "start_time": "2022-01-28T05:47:56.654Z"
   },
   {
    "duration": 119,
    "start_time": "2022-01-28T05:48:19.806Z"
   },
   {
    "duration": 191,
    "start_time": "2022-01-28T05:49:25.084Z"
   },
   {
    "duration": 126,
    "start_time": "2022-01-28T05:50:16.201Z"
   },
   {
    "duration": 381,
    "start_time": "2022-01-28T05:54:48.799Z"
   },
   {
    "duration": 377,
    "start_time": "2022-01-28T06:02:42.863Z"
   },
   {
    "duration": 114,
    "start_time": "2022-01-28T06:07:31.040Z"
   },
   {
    "duration": 504,
    "start_time": "2022-01-28T06:28:43.832Z"
   },
   {
    "duration": 1436,
    "start_time": "2022-01-28T06:30:26.329Z"
   },
   {
    "duration": 35,
    "start_time": "2022-01-28T06:30:27.768Z"
   },
   {
    "duration": 682,
    "start_time": "2022-01-28T06:30:27.806Z"
   },
   {
    "duration": 8,
    "start_time": "2022-01-28T06:30:28.483Z"
   },
   {
    "duration": 1008,
    "start_time": "2022-01-28T06:30:43.095Z"
   },
   {
    "duration": 373,
    "start_time": "2022-01-28T06:30:59.270Z"
   },
   {
    "duration": 134,
    "start_time": "2022-01-28T06:33:06.869Z"
   },
   {
    "duration": 112,
    "start_time": "2022-01-28T06:33:13.852Z"
   },
   {
    "duration": 567,
    "start_time": "2022-01-28T07:25:26.453Z"
   },
   {
    "duration": 93,
    "start_time": "2022-01-28T07:26:47.131Z"
   },
   {
    "duration": 91,
    "start_time": "2022-01-28T07:28:36.135Z"
   },
   {
    "duration": 8799,
    "start_time": "2022-01-28T07:29:33.453Z"
   },
   {
    "duration": 8272,
    "start_time": "2022-01-28T07:31:32.146Z"
   },
   {
    "duration": 7025,
    "start_time": "2022-01-28T07:37:07.402Z"
   },
   {
    "duration": 6896,
    "start_time": "2022-01-28T07:39:33.767Z"
   },
   {
    "duration": 1356,
    "start_time": "2022-01-28T07:42:10.720Z"
   },
   {
    "duration": 38,
    "start_time": "2022-01-28T07:42:12.080Z"
   },
   {
    "duration": 456,
    "start_time": "2022-01-28T07:42:12.121Z"
   },
   {
    "duration": 6793,
    "start_time": "2022-01-28T07:42:12.580Z"
   },
   {
    "duration": 322,
    "start_time": "2022-01-28T07:43:57.844Z"
   },
   {
    "duration": 1343,
    "start_time": "2022-01-28T07:53:20.115Z"
   },
   {
    "duration": 40,
    "start_time": "2022-01-28T07:53:21.461Z"
   },
   {
    "duration": 443,
    "start_time": "2022-01-28T07:53:21.504Z"
   },
   {
    "duration": 437,
    "start_time": "2022-01-28T07:53:21.950Z"
   },
   {
    "duration": 329,
    "start_time": "2022-01-28T08:06:04.986Z"
   },
   {
    "duration": 339,
    "start_time": "2022-01-28T08:08:11.168Z"
   },
   {
    "duration": 347,
    "start_time": "2022-01-28T08:08:56.263Z"
   },
   {
    "duration": 352,
    "start_time": "2022-01-28T08:09:11.739Z"
   },
   {
    "duration": 377,
    "start_time": "2022-01-28T08:10:33.140Z"
   },
   {
    "duration": 532,
    "start_time": "2022-01-28T08:11:56.995Z"
   },
   {
    "duration": 354,
    "start_time": "2022-01-28T08:13:26.565Z"
   },
   {
    "duration": 297,
    "start_time": "2022-01-28T08:14:19.532Z"
   },
   {
    "duration": 346,
    "start_time": "2022-01-28T08:15:36.963Z"
   },
   {
    "duration": 101,
    "start_time": "2022-01-28T08:17:05.898Z"
   },
   {
    "duration": 7464,
    "start_time": "2022-01-28T08:19:35.764Z"
   },
   {
    "duration": 1159,
    "start_time": "2022-01-28T12:57:20.133Z"
   },
   {
    "duration": 32,
    "start_time": "2022-01-28T12:57:21.294Z"
   },
   {
    "duration": 369,
    "start_time": "2022-01-28T12:57:21.328Z"
   },
   {
    "duration": 7014,
    "start_time": "2022-01-28T12:57:21.698Z"
   },
   {
    "duration": 15421,
    "start_time": "2022-01-28T12:58:23.563Z"
   },
   {
    "duration": 347,
    "start_time": "2022-01-28T13:00:46.961Z"
   },
   {
    "duration": 7752,
    "start_time": "2022-01-28T13:01:33.933Z"
   },
   {
    "duration": 252,
    "start_time": "2022-01-28T13:20:04.233Z"
   },
   {
    "duration": 194,
    "start_time": "2022-01-28T13:20:37.983Z"
   },
   {
    "duration": 205,
    "start_time": "2022-01-28T13:20:59.914Z"
   },
   {
    "duration": 185,
    "start_time": "2022-01-28T13:21:18.270Z"
   },
   {
    "duration": 196,
    "start_time": "2022-01-28T13:21:38.636Z"
   },
   {
    "duration": 185,
    "start_time": "2022-01-28T13:22:16.285Z"
   },
   {
    "duration": 280,
    "start_time": "2022-01-28T13:25:06.395Z"
   },
   {
    "duration": 255,
    "start_time": "2022-01-28T13:28:38.764Z"
   },
   {
    "duration": 1197,
    "start_time": "2022-01-28T13:29:02.358Z"
   },
   {
    "duration": 28,
    "start_time": "2022-01-28T13:29:03.557Z"
   },
   {
    "duration": 1365,
    "start_time": "2022-01-28T13:29:03.587Z"
   },
   {
    "duration": -82999,
    "start_time": "2022-01-28T13:30:27.953Z"
   },
   {
    "duration": 1074,
    "start_time": "2022-01-28T13:29:41.874Z"
   },
   {
    "duration": 1042,
    "start_time": "2022-01-28T13:30:26.545Z"
   },
   {
    "duration": 1099,
    "start_time": "2022-01-28T13:31:13.884Z"
   },
   {
    "duration": 1059,
    "start_time": "2022-01-28T13:31:42.100Z"
   },
   {
    "duration": 333,
    "start_time": "2022-01-28T13:33:26.202Z"
   },
   {
    "duration": 1138,
    "start_time": "2022-01-28T13:34:32.876Z"
   },
   {
    "duration": 1100,
    "start_time": "2022-01-28T13:35:24.029Z"
   },
   {
    "duration": 253,
    "start_time": "2022-01-28T13:36:41.920Z"
   },
   {
    "duration": 262,
    "start_time": "2022-01-28T13:37:32.289Z"
   },
   {
    "duration": 265,
    "start_time": "2022-01-28T13:38:56.566Z"
   },
   {
    "duration": 1135,
    "start_time": "2022-01-28T13:39:45.888Z"
   },
   {
    "duration": 28,
    "start_time": "2022-01-28T13:39:47.025Z"
   },
   {
    "duration": 365,
    "start_time": "2022-01-28T13:39:47.056Z"
   },
   {
    "duration": 321,
    "start_time": "2022-01-28T13:39:47.423Z"
   },
   {
    "duration": 8136,
    "start_time": "2022-01-28T13:41:23.470Z"
   },
   {
    "duration": 253,
    "start_time": "2022-01-28T13:42:35.291Z"
   },
   {
    "duration": 269,
    "start_time": "2022-01-28T13:42:53.368Z"
   },
   {
    "duration": 7615,
    "start_time": "2022-01-28T13:43:32.948Z"
   },
   {
    "duration": 83,
    "start_time": "2022-01-28T13:53:24.322Z"
   },
   {
    "duration": 8056,
    "start_time": "2022-01-28T13:56:08.410Z"
   },
   {
    "duration": 7734,
    "start_time": "2022-01-28T13:59:09.618Z"
   },
   {
    "duration": 7431,
    "start_time": "2022-01-28T14:00:33.342Z"
   },
   {
    "duration": 485,
    "start_time": "2022-01-28T14:01:22.136Z"
   },
   {
    "duration": 633,
    "start_time": "2022-01-28T14:01:45.457Z"
   },
   {
    "duration": 558,
    "start_time": "2022-01-28T14:03:20.297Z"
   },
   {
    "duration": 475,
    "start_time": "2022-01-28T14:04:18.518Z"
   },
   {
    "duration": 511,
    "start_time": "2022-01-28T14:15:13.498Z"
   },
   {
    "duration": 621,
    "start_time": "2022-01-28T14:17:30.373Z"
   },
   {
    "duration": 854,
    "start_time": "2022-01-28T14:18:05.238Z"
   },
   {
    "duration": 489,
    "start_time": "2022-01-28T14:21:49.217Z"
   },
   {
    "duration": 1202,
    "start_time": "2022-01-28T14:21:59.195Z"
   },
   {
    "duration": 28,
    "start_time": "2022-01-28T14:22:00.399Z"
   },
   {
    "duration": 370,
    "start_time": "2022-01-28T14:22:00.430Z"
   },
   {
    "duration": 1348,
    "start_time": "2022-01-28T14:22:00.801Z"
   },
   {
    "duration": 1225,
    "start_time": "2022-01-28T14:22:57.356Z"
   },
   {
    "duration": 2121,
    "start_time": "2022-01-28T14:28:01.424Z"
   },
   {
    "duration": 245,
    "start_time": "2022-01-28T14:32:46.531Z"
   },
   {
    "duration": 1201,
    "start_time": "2022-01-28T14:33:11.782Z"
   },
   {
    "duration": 332,
    "start_time": "2022-01-28T14:33:12.985Z"
   },
   {
    "duration": -83057,
    "start_time": "2022-01-28T14:34:36.379Z"
   },
   {
    "duration": -83057,
    "start_time": "2022-01-28T14:34:36.381Z"
   },
   {
    "duration": 251,
    "start_time": "2022-01-28T14:33:54.956Z"
   },
   {
    "duration": 1209,
    "start_time": "2022-01-28T14:34:07.082Z"
   },
   {
    "duration": 321,
    "start_time": "2022-01-28T14:34:08.294Z"
   },
   {
    "duration": -82931,
    "start_time": "2022-01-28T14:35:31.549Z"
   },
   {
    "duration": -82969,
    "start_time": "2022-01-28T14:35:31.589Z"
   },
   {
    "duration": 516,
    "start_time": "2022-01-28T14:34:40.363Z"
   },
   {
    "duration": 1128,
    "start_time": "2022-01-28T14:34:53.967Z"
   },
   {
    "duration": 30,
    "start_time": "2022-01-28T14:34:55.098Z"
   },
   {
    "duration": 361,
    "start_time": "2022-01-28T14:34:55.131Z"
   },
   {
    "duration": 2058,
    "start_time": "2022-01-28T14:34:55.494Z"
   },
   {
    "duration": 254,
    "start_time": "2022-01-28T14:38:32.824Z"
   },
   {
    "duration": 1137,
    "start_time": "2022-01-28T14:38:44.890Z"
   },
   {
    "duration": 6396,
    "start_time": "2022-01-28T14:38:46.029Z"
   },
   {
    "duration": -83115,
    "start_time": "2022-01-28T14:40:15.542Z"
   },
   {
    "duration": -83118,
    "start_time": "2022-01-28T14:40:15.547Z"
   },
   {
    "duration": 1102,
    "start_time": "2022-01-28T14:39:25.732Z"
   },
   {
    "duration": 28,
    "start_time": "2022-01-28T14:39:26.836Z"
   },
   {
    "duration": 341,
    "start_time": "2022-01-28T14:39:26.866Z"
   },
   {
    "duration": 2164,
    "start_time": "2022-01-28T14:39:27.209Z"
   },
   {
    "duration": 242,
    "start_time": "2022-01-28T14:40:21.453Z"
   },
   {
    "duration": 1100,
    "start_time": "2022-01-28T14:40:32.041Z"
   },
   {
    "duration": 27,
    "start_time": "2022-01-28T14:40:33.143Z"
   },
   {
    "duration": 362,
    "start_time": "2022-01-28T14:40:33.172Z"
   },
   {
    "duration": 2079,
    "start_time": "2022-01-28T14:40:33.536Z"
   },
   {
    "duration": 501,
    "start_time": "2022-01-28T14:41:54.087Z"
   },
   {
    "duration": 600,
    "start_time": "2022-01-28T14:42:41.126Z"
   },
   {
    "duration": 90,
    "start_time": "2022-01-28T14:45:53.207Z"
   },
   {
    "duration": 1147,
    "start_time": "2022-01-28T14:46:19.219Z"
   },
   {
    "duration": 593,
    "start_time": "2022-01-28T14:46:49.244Z"
   },
   {
    "duration": 854,
    "start_time": "2022-01-28T15:14:28.448Z"
   },
   {
    "duration": 552,
    "start_time": "2022-01-28T15:14:54.416Z"
   },
   {
    "duration": 645,
    "start_time": "2022-01-28T15:15:44.939Z"
   },
   {
    "duration": 12553,
    "start_time": "2022-01-28T15:16:17.420Z"
   },
   {
    "duration": 12832,
    "start_time": "2022-01-28T15:17:45.475Z"
   },
   {
    "duration": 496,
    "start_time": "2022-01-28T15:22:35.485Z"
   },
   {
    "duration": 488,
    "start_time": "2022-01-28T15:25:53.537Z"
   },
   {
    "duration": 14041,
    "start_time": "2022-01-28T15:26:54.437Z"
   },
   {
    "duration": 482,
    "start_time": "2022-01-28T15:27:56.557Z"
   },
   {
    "duration": 1565,
    "start_time": "2022-01-28T15:29:22.855Z"
   },
   {
    "duration": 87,
    "start_time": "2022-01-28T15:32:20.093Z"
   },
   {
    "duration": 1342,
    "start_time": "2022-01-28T15:32:59.349Z"
   },
   {
    "duration": 1361,
    "start_time": "2022-01-28T15:50:54.284Z"
   },
   {
    "duration": 1326,
    "start_time": "2022-01-28T15:51:14.592Z"
   },
   {
    "duration": 31,
    "start_time": "2022-01-28T15:51:15.920Z"
   },
   {
    "duration": 396,
    "start_time": "2022-01-28T15:51:15.953Z"
   },
   {
    "duration": 1338,
    "start_time": "2022-01-28T15:51:16.352Z"
   },
   {
    "duration": 1148,
    "start_time": "2022-01-29T13:30:53.810Z"
   },
   {
    "duration": 29,
    "start_time": "2022-01-29T13:30:54.959Z"
   },
   {
    "duration": 365,
    "start_time": "2022-01-29T13:30:54.990Z"
   },
   {
    "duration": 1360,
    "start_time": "2022-01-29T13:30:55.357Z"
   },
   {
    "duration": 2983,
    "start_time": "2022-01-29T13:35:36.328Z"
   },
   {
    "duration": 1330,
    "start_time": "2022-01-29T13:37:36.250Z"
   },
   {
    "duration": 1296,
    "start_time": "2022-01-29T13:38:02.583Z"
   },
   {
    "duration": 2673,
    "start_time": "2022-01-29T13:40:10.381Z"
   },
   {
    "duration": 10546,
    "start_time": "2022-01-29T13:41:46.086Z"
   },
   {
    "duration": 132,
    "start_time": "2022-01-29T13:43:29.175Z"
   },
   {
    "duration": 6290,
    "start_time": "2022-01-29T13:43:39.578Z"
   },
   {
    "duration": 771,
    "start_time": "2022-01-29T13:44:32.853Z"
   },
   {
    "duration": 11814,
    "start_time": "2022-01-29T13:45:43.261Z"
   },
   {
    "duration": 280,
    "start_time": "2022-01-29T14:04:08.218Z"
   },
   {
    "duration": 1148,
    "start_time": "2022-01-29T14:04:28.964Z"
   },
   {
    "duration": 33,
    "start_time": "2022-01-29T14:04:30.115Z"
   },
   {
    "duration": 372,
    "start_time": "2022-01-29T14:04:30.151Z"
   },
   {
    "duration": 11477,
    "start_time": "2022-01-29T14:04:30.526Z"
   },
   {
    "duration": 288,
    "start_time": "2022-01-29T14:04:56.890Z"
   },
   {
    "duration": 1088,
    "start_time": "2022-01-29T14:05:50.551Z"
   },
   {
    "duration": 39,
    "start_time": "2022-01-29T14:05:51.641Z"
   },
   {
    "duration": 374,
    "start_time": "2022-01-29T14:05:51.683Z"
   },
   {
    "duration": 7424,
    "start_time": "2022-01-29T14:05:52.059Z"
   },
   {
    "duration": 7021,
    "start_time": "2022-01-29T14:16:02.974Z"
   },
   {
    "duration": 7019,
    "start_time": "2022-01-29T14:17:27.126Z"
   },
   {
    "duration": 7072,
    "start_time": "2022-01-29T14:20:37.735Z"
   },
   {
    "duration": 12022,
    "start_time": "2022-01-29T14:21:11.133Z"
   },
   {
    "duration": 11452,
    "start_time": "2022-01-29T14:32:06.923Z"
   },
   {
    "duration": 33853,
    "start_time": "2022-01-29T14:35:40.631Z"
   },
   {
    "duration": 12477,
    "start_time": "2022-01-29T14:36:23.323Z"
   },
   {
    "duration": 102,
    "start_time": "2022-01-29T14:54:20.034Z"
   },
   {
    "duration": 92,
    "start_time": "2022-01-29T14:54:58.615Z"
   },
   {
    "duration": 1076,
    "start_time": "2022-01-29T14:55:13.401Z"
   },
   {
    "duration": 938,
    "start_time": "2022-01-29T14:55:54.177Z"
   },
   {
    "duration": 1280,
    "start_time": "2022-01-29T14:56:26.516Z"
   },
   {
    "duration": 1359,
    "start_time": "2022-01-29T15:10:08.734Z"
   },
   {
    "duration": 6615,
    "start_time": "2022-01-29T15:10:52.524Z"
   },
   {
    "duration": 4054,
    "start_time": "2022-01-29T15:12:32.686Z"
   },
   {
    "duration": 14729,
    "start_time": "2022-01-29T15:15:07.005Z"
   },
   {
    "duration": 3,
    "start_time": "2022-01-29T15:29:05.748Z"
   },
   {
    "duration": 15,
    "start_time": "2022-01-29T15:33:20.399Z"
   },
   {
    "duration": 6,
    "start_time": "2022-01-29T15:34:57.205Z"
   },
   {
    "duration": 9,
    "start_time": "2022-01-29T15:42:14.317Z"
   },
   {
    "duration": 10,
    "start_time": "2022-01-29T16:06:13.215Z"
   },
   {
    "duration": 11,
    "start_time": "2022-01-29T16:08:22.660Z"
   },
   {
    "duration": 10,
    "start_time": "2022-01-29T16:11:24.647Z"
   },
   {
    "duration": 7269,
    "start_time": "2022-01-29T16:13:40.469Z"
   },
   {
    "duration": 16,
    "start_time": "2022-01-29T16:13:53.588Z"
   },
   {
    "duration": 15,
    "start_time": "2022-01-29T16:14:30.470Z"
   },
   {
    "duration": 17,
    "start_time": "2022-01-29T16:18:56.310Z"
   },
   {
    "duration": 39,
    "start_time": "2022-01-29T16:19:32.061Z"
   },
   {
    "duration": 26,
    "start_time": "2022-01-29T16:19:47.524Z"
   },
   {
    "duration": 28,
    "start_time": "2022-01-29T16:19:55.306Z"
   },
   {
    "duration": 18,
    "start_time": "2022-01-29T16:20:29.716Z"
   },
   {
    "duration": 363,
    "start_time": "2022-01-29T16:36:14.055Z"
   },
   {
    "duration": 776,
    "start_time": "2022-01-29T16:42:27.009Z"
   },
   {
    "duration": 700,
    "start_time": "2022-01-29T16:44:45.856Z"
   },
   {
    "duration": 724,
    "start_time": "2022-01-29T16:44:59.987Z"
   },
   {
    "duration": 712,
    "start_time": "2022-01-29T16:49:10.305Z"
   },
   {
    "duration": 985,
    "start_time": "2022-01-30T05:28:58.735Z"
   },
   {
    "duration": 25,
    "start_time": "2022-01-30T05:28:59.721Z"
   },
   {
    "duration": 289,
    "start_time": "2022-01-30T05:28:59.748Z"
   },
   {
    "duration": 11575,
    "start_time": "2022-01-30T05:29:00.038Z"
   },
   {
    "duration": 618,
    "start_time": "2022-01-30T05:29:11.615Z"
   },
   {
    "duration": 12628,
    "start_time": "2022-01-30T05:29:37.568Z"
   },
   {
    "duration": 11624,
    "start_time": "2022-01-30T05:30:36.156Z"
   },
   {
    "duration": 605,
    "start_time": "2022-01-30T05:36:37.288Z"
   },
   {
    "duration": 361,
    "start_time": "2022-01-30T05:38:08.237Z"
   },
   {
    "duration": 327,
    "start_time": "2022-01-30T05:39:33.734Z"
   },
   {
    "duration": 552,
    "start_time": "2022-01-30T05:39:55.400Z"
   },
   {
    "duration": 585,
    "start_time": "2022-01-30T05:41:59.435Z"
   },
   {
    "duration": 560,
    "start_time": "2022-01-30T05:46:36.455Z"
   },
   {
    "duration": 546,
    "start_time": "2022-01-30T05:49:24.125Z"
   },
   {
    "duration": 567,
    "start_time": "2022-01-30T05:49:59.124Z"
   },
   {
    "duration": 174,
    "start_time": "2022-01-30T05:54:52.907Z"
   },
   {
    "duration": 541,
    "start_time": "2022-01-30T05:55:18.273Z"
   },
   {
    "duration": 97,
    "start_time": "2022-01-30T06:01:19.163Z"
   },
   {
    "duration": 849,
    "start_time": "2022-01-30T06:01:48.938Z"
   },
   {
    "duration": 551,
    "start_time": "2022-01-30T06:02:05.402Z"
   },
   {
    "duration": 371,
    "start_time": "2022-01-30T06:07:56.488Z"
   },
   {
    "duration": 879,
    "start_time": "2022-01-30T06:08:07.513Z"
   },
   {
    "duration": -83122,
    "start_time": "2022-01-30T06:09:31.516Z"
   },
   {
    "duration": -83127,
    "start_time": "2022-01-30T06:09:31.522Z"
   },
   {
    "duration": -83128,
    "start_time": "2022-01-30T06:09:31.524Z"
   },
   {
    "duration": -83154,
    "start_time": "2022-01-30T06:09:31.551Z"
   },
   {
    "duration": 306,
    "start_time": "2022-01-30T06:08:33.655Z"
   },
   {
    "duration": 875,
    "start_time": "2022-01-30T06:08:53.523Z"
   },
   {
    "duration": -82945,
    "start_time": "2022-01-30T06:10:17.345Z"
   },
   {
    "duration": -82946,
    "start_time": "2022-01-30T06:10:17.348Z"
   },
   {
    "duration": -82982,
    "start_time": "2022-01-30T06:10:17.385Z"
   },
   {
    "duration": -82987,
    "start_time": "2022-01-30T06:10:17.391Z"
   },
   {
    "duration": 920,
    "start_time": "2022-01-30T06:10:14.388Z"
   },
   {
    "duration": -82874,
    "start_time": "2022-01-30T06:11:38.184Z"
   },
   {
    "duration": -82874,
    "start_time": "2022-01-30T06:11:38.185Z"
   },
   {
    "duration": -82875,
    "start_time": "2022-01-30T06:11:38.187Z"
   },
   {
    "duration": -82914,
    "start_time": "2022-01-30T06:11:38.227Z"
   },
   {
    "duration": 504,
    "start_time": "2022-01-30T06:11:40.102Z"
   },
   {
    "duration": 301,
    "start_time": "2022-01-30T06:11:51.982Z"
   },
   {
    "duration": 1116,
    "start_time": "2022-01-30T06:12:01.912Z"
   },
   {
    "duration": 28,
    "start_time": "2022-01-30T06:12:03.030Z"
   },
   {
    "duration": 291,
    "start_time": "2022-01-30T06:12:03.061Z"
   },
   {
    "duration": 11741,
    "start_time": "2022-01-30T06:12:03.354Z"
   },
   {
    "duration": 734,
    "start_time": "2022-01-30T06:12:15.096Z"
   },
   {
    "duration": 774,
    "start_time": "2022-01-30T06:12:51.429Z"
   },
   {
    "duration": 602,
    "start_time": "2022-01-30T06:14:01.094Z"
   },
   {
    "duration": 607,
    "start_time": "2022-01-30T06:14:52.349Z"
   },
   {
    "duration": 588,
    "start_time": "2022-01-30T06:15:54.811Z"
   },
   {
    "duration": 619,
    "start_time": "2022-01-30T06:18:00.360Z"
   },
   {
    "duration": 563,
    "start_time": "2022-01-30T06:20:17.569Z"
   },
   {
    "duration": 806,
    "start_time": "2022-01-30T06:30:29.267Z"
   },
   {
    "duration": 642,
    "start_time": "2022-01-30T06:31:01.730Z"
   },
   {
    "duration": 846,
    "start_time": "2022-01-30T06:41:36.766Z"
   },
   {
    "duration": 7985,
    "start_time": "2022-01-30T06:44:22.986Z"
   },
   {
    "duration": 1102,
    "start_time": "2022-01-30T06:50:35.578Z"
   },
   {
    "duration": 1043,
    "start_time": "2022-01-30T06:51:21.391Z"
   },
   {
    "duration": 1085,
    "start_time": "2022-01-30T06:52:29.615Z"
   },
   {
    "duration": 1037,
    "start_time": "2022-01-30T06:53:09.936Z"
   },
   {
    "duration": 878,
    "start_time": "2022-01-30T06:53:37.855Z"
   },
   {
    "duration": 941,
    "start_time": "2022-01-30T06:56:54.124Z"
   },
   {
    "duration": 901,
    "start_time": "2022-01-30T06:59:56.664Z"
   },
   {
    "duration": 1092,
    "start_time": "2022-01-30T07:01:46.662Z"
   },
   {
    "duration": 1230,
    "start_time": "2022-01-30T07:02:04.646Z"
   },
   {
    "duration": 1249,
    "start_time": "2022-01-30T07:02:22.196Z"
   },
   {
    "duration": 1487,
    "start_time": "2022-01-30T07:05:39.054Z"
   },
   {
    "duration": 1226,
    "start_time": "2022-01-30T07:06:09.724Z"
   },
   {
    "duration": 1279,
    "start_time": "2022-01-30T07:14:54.207Z"
   },
   {
    "duration": 1426,
    "start_time": "2022-01-30T08:09:41.624Z"
   },
   {
    "duration": 27,
    "start_time": "2022-01-30T08:09:43.052Z"
   },
   {
    "duration": 280,
    "start_time": "2022-01-30T08:09:43.081Z"
   },
   {
    "duration": 12472,
    "start_time": "2022-01-30T08:09:43.363Z"
   },
   {
    "duration": 1590,
    "start_time": "2022-01-30T08:09:55.837Z"
   },
   {
    "duration": 3,
    "start_time": "2022-01-30T08:09:57.429Z"
   },
   {
    "duration": 8,
    "start_time": "2022-01-30T08:13:22.042Z"
   },
   {
    "duration": 12891,
    "start_time": "2022-01-30T08:17:06.372Z"
   },
   {
    "duration": 1418,
    "start_time": "2022-01-30T08:17:37.429Z"
   },
   {
    "duration": 25,
    "start_time": "2022-01-30T08:17:38.849Z"
   },
   {
    "duration": 278,
    "start_time": "2022-01-30T08:17:38.876Z"
   },
   {
    "duration": 12298,
    "start_time": "2022-01-30T08:17:39.156Z"
   },
   {
    "duration": 1225,
    "start_time": "2022-01-30T08:17:51.456Z"
   },
   {
    "duration": 5,
    "start_time": "2022-01-30T08:17:52.682Z"
   },
   {
    "duration": 396,
    "start_time": "2022-01-30T08:21:30.439Z"
   },
   {
    "duration": 112,
    "start_time": "2022-01-30T08:24:36.757Z"
   },
   {
    "duration": 105,
    "start_time": "2022-01-30T08:28:33.375Z"
   },
   {
    "duration": 318,
    "start_time": "2022-01-30T08:28:45.204Z"
   },
   {
    "duration": 7,
    "start_time": "2022-01-30T08:29:00.303Z"
   },
   {
    "duration": 9,
    "start_time": "2022-01-30T08:35:58.646Z"
   },
   {
    "duration": 6,
    "start_time": "2022-01-30T08:39:16.020Z"
   },
   {
    "duration": 12480,
    "start_time": "2022-01-30T08:44:45.746Z"
   },
   {
    "duration": 18,
    "start_time": "2022-01-30T08:47:42.893Z"
   },
   {
    "duration": 37,
    "start_time": "2022-01-30T08:49:53.867Z"
   },
   {
    "duration": 45,
    "start_time": "2022-01-30T08:50:05.075Z"
   },
   {
    "duration": 29,
    "start_time": "2022-01-30T08:51:57.610Z"
   },
   {
    "duration": 33,
    "start_time": "2022-01-30T08:52:40.433Z"
   },
   {
    "duration": 358,
    "start_time": "2022-01-30T08:55:16.500Z"
   },
   {
    "duration": 312,
    "start_time": "2022-01-30T08:56:07.962Z"
   },
   {
    "duration": 341,
    "start_time": "2022-01-30T08:56:17.986Z"
   },
   {
    "duration": 7,
    "start_time": "2022-01-30T08:57:19.091Z"
   },
   {
    "duration": 6,
    "start_time": "2022-01-30T08:59:36.879Z"
   },
   {
    "duration": 3534,
    "start_time": "2022-02-07T19:19:30.247Z"
   },
   {
    "duration": 52,
    "start_time": "2022-02-07T19:19:33.784Z"
   },
   {
    "duration": 817,
    "start_time": "2022-02-07T19:19:33.840Z"
   },
   {
    "duration": 25145,
    "start_time": "2022-02-07T19:19:34.660Z"
   },
   {
    "duration": 2638,
    "start_time": "2022-02-07T19:19:59.808Z"
   },
   {
    "duration": 8,
    "start_time": "2022-02-07T19:20:02.449Z"
   },
   {
    "duration": 287,
    "start_time": "2022-02-07T19:20:02.459Z"
   },
   {
    "duration": 341,
    "start_time": "2022-02-07T19:20:02.750Z"
   },
   {
    "duration": 195,
    "start_time": "2022-02-07T19:20:03.096Z"
   },
   {
    "duration": 5,
    "start_time": "2022-02-07T19:22:07.816Z"
   },
   {
    "duration": 2227,
    "start_time": "2022-02-08T12:16:46.096Z"
   },
   {
    "duration": 46,
    "start_time": "2022-02-08T12:16:48.326Z"
   },
   {
    "duration": 519,
    "start_time": "2022-02-08T12:16:48.375Z"
   },
   {
    "duration": 518,
    "start_time": "2022-02-08T12:16:48.897Z"
   },
   {
    "duration": -85440,
    "start_time": "2022-02-08T12:18:14.858Z"
   },
   {
    "duration": -85450,
    "start_time": "2022-02-08T12:18:14.869Z"
   },
   {
    "duration": -85468,
    "start_time": "2022-02-08T12:18:14.889Z"
   },
   {
    "duration": -85476,
    "start_time": "2022-02-08T12:18:14.898Z"
   },
   {
    "duration": -85486,
    "start_time": "2022-02-08T12:18:14.909Z"
   },
   {
    "duration": -85490,
    "start_time": "2022-02-08T12:18:14.915Z"
   },
   {
    "duration": -85494,
    "start_time": "2022-02-08T12:18:14.920Z"
   },
   {
    "duration": 447,
    "start_time": "2022-02-08T12:17:52.781Z"
   },
   {
    "duration": 5,
    "start_time": "2022-02-08T12:17:58.715Z"
   },
   {
    "duration": 284,
    "start_time": "2022-02-14T14:33:23.010Z"
   }
  ],
  "kernelspec": {
   "display_name": "Python 3 (ipykernel)",
   "language": "python",
   "name": "python3"
  },
  "language_info": {
   "codemirror_mode": {
    "name": "ipython",
    "version": 3
   },
   "file_extension": ".py",
   "mimetype": "text/x-python",
   "name": "python",
   "nbconvert_exporter": "python",
   "pygments_lexer": "ipython3",
   "version": "3.9.5"
  },
  "toc": {
   "base_numbering": 1,
   "nav_menu": {},
   "number_sections": true,
   "sideBar": true,
   "skip_h1_title": true,
   "title_cell": "Содержание",
   "title_sidebar": "Contents",
   "toc_cell": true,
   "toc_position": {
    "height": "calc(100% - 180px)",
    "left": "10px",
    "top": "150px",
    "width": "207.188px"
   },
   "toc_section_display": true,
   "toc_window_display": true
  }
 },
 "nbformat": 4,
 "nbformat_minor": 2
}
